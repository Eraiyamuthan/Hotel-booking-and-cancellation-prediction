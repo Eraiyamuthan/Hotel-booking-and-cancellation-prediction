{
 "cells": [
  {
   "cell_type": "markdown",
   "metadata": {},
   "source": [
    "__Hotel Booking__ - Notebook to perform EDA on hotel booking data and build a model to predict cancellation of bookings"
   ]
  },
  {
   "cell_type": "code",
   "execution_count": 1,
   "metadata": {},
   "outputs": [],
   "source": [
    "## 1. Loading libraries"
   ]
  },
  {
   "cell_type": "code",
   "execution_count": 2,
   "metadata": {},
   "outputs": [],
   "source": [
    "import numpy as np\n",
    "import pandas as pd\n",
    "import seaborn as sns\n",
    "import matplotlib.pyplot as plt\n",
    "\n",
    "from sklearn.preprocessing import LabelEncoder, StandardScaler, MinMaxScaler\n",
    "from sklearn.model_selection import train_test_split, cross_val_score, GridSearchCV\n",
    "from sklearn.feature_selection import SelectFromModel, SelectPercentile\n",
    "from sklearn.metrics import f1_score, confusion_matrix\n",
    "\n",
    "from sklearn.linear_model import LogisticRegression, RidgeClassifier, SGDClassifier\n",
    "from sklearn.svm import LinearSVC\n",
    "from sklearn.tree import DecisionTreeClassifier\n",
    "from sklearn.ensemble import RandomForestClassifier, GradientBoostingClassifier, AdaBoostClassifier\n",
    "from sklearn.neighbors import KNeighborsClassifier\n",
    "from sklearn.neural_network import MLPClassifier\n",
    "from sklearn.naive_bayes import GaussianNB\n",
    "\n",
    "pd.set_option('display.max_columns', None)"
   ]
  },
  {
   "cell_type": "code",
   "execution_count": 3,
   "metadata": {},
   "outputs": [],
   "source": [
    "## 2. Loading dataset"
   ]
  },
  {
   "cell_type": "code",
   "execution_count": 4,
   "metadata": {},
   "outputs": [],
   "source": [
    "df = pd.read_csv('hotel_booking.csv')"
   ]
  },
  {
   "cell_type": "code",
   "execution_count": 5,
   "metadata": {},
   "outputs": [],
   "source": [
    "## 3. Data overview"
   ]
  },
  {
   "cell_type": "code",
   "execution_count": 6,
   "metadata": {},
   "outputs": [
    {
     "data": {
      "text/html": [
       "<div>\n",
       "<style scoped>\n",
       "    .dataframe tbody tr th:only-of-type {\n",
       "        vertical-align: middle;\n",
       "    }\n",
       "\n",
       "    .dataframe tbody tr th {\n",
       "        vertical-align: top;\n",
       "    }\n",
       "\n",
       "    .dataframe thead th {\n",
       "        text-align: right;\n",
       "    }\n",
       "</style>\n",
       "<table border=\"1\" class=\"dataframe\">\n",
       "  <thead>\n",
       "    <tr style=\"text-align: right;\">\n",
       "      <th></th>\n",
       "      <th>hotel</th>\n",
       "      <th>is_canceled</th>\n",
       "      <th>lead_time</th>\n",
       "      <th>arrival_date_year</th>\n",
       "      <th>arrival_date_month</th>\n",
       "      <th>arrival_date_week_number</th>\n",
       "      <th>arrival_date_day_of_month</th>\n",
       "      <th>stays_in_weekend_nights</th>\n",
       "      <th>stays_in_week_nights</th>\n",
       "      <th>adults</th>\n",
       "      <th>children</th>\n",
       "      <th>babies</th>\n",
       "      <th>meal</th>\n",
       "      <th>country</th>\n",
       "      <th>market_segment</th>\n",
       "      <th>distribution_channel</th>\n",
       "      <th>is_repeated_guest</th>\n",
       "      <th>previous_cancellations</th>\n",
       "      <th>previous_bookings_not_canceled</th>\n",
       "      <th>reserved_room_type</th>\n",
       "      <th>assigned_room_type</th>\n",
       "      <th>booking_changes</th>\n",
       "      <th>deposit_type</th>\n",
       "      <th>agent</th>\n",
       "      <th>company</th>\n",
       "      <th>days_in_waiting_list</th>\n",
       "      <th>customer_type</th>\n",
       "      <th>adr</th>\n",
       "      <th>required_car_parking_spaces</th>\n",
       "      <th>total_of_special_requests</th>\n",
       "      <th>reservation_status</th>\n",
       "      <th>reservation_status_date</th>\n",
       "      <th>name</th>\n",
       "      <th>email</th>\n",
       "      <th>phone-number</th>\n",
       "      <th>credit_card</th>\n",
       "    </tr>\n",
       "  </thead>\n",
       "  <tbody>\n",
       "    <tr>\n",
       "      <th>0</th>\n",
       "      <td>Resort Hotel</td>\n",
       "      <td>0</td>\n",
       "      <td>342</td>\n",
       "      <td>2015</td>\n",
       "      <td>July</td>\n",
       "      <td>27</td>\n",
       "      <td>1</td>\n",
       "      <td>0</td>\n",
       "      <td>0</td>\n",
       "      <td>2</td>\n",
       "      <td>0.0</td>\n",
       "      <td>0</td>\n",
       "      <td>BB</td>\n",
       "      <td>PRT</td>\n",
       "      <td>Direct</td>\n",
       "      <td>Direct</td>\n",
       "      <td>0</td>\n",
       "      <td>0</td>\n",
       "      <td>0</td>\n",
       "      <td>C</td>\n",
       "      <td>C</td>\n",
       "      <td>3</td>\n",
       "      <td>No Deposit</td>\n",
       "      <td>NaN</td>\n",
       "      <td>NaN</td>\n",
       "      <td>0</td>\n",
       "      <td>Transient</td>\n",
       "      <td>0.0</td>\n",
       "      <td>0</td>\n",
       "      <td>0</td>\n",
       "      <td>Check-Out</td>\n",
       "      <td>2015-07-01</td>\n",
       "      <td>Ernest Barnes</td>\n",
       "      <td>Ernest.Barnes31@outlook.com</td>\n",
       "      <td>669-792-1661</td>\n",
       "      <td>************4322</td>\n",
       "    </tr>\n",
       "    <tr>\n",
       "      <th>1</th>\n",
       "      <td>Resort Hotel</td>\n",
       "      <td>0</td>\n",
       "      <td>737</td>\n",
       "      <td>2015</td>\n",
       "      <td>July</td>\n",
       "      <td>27</td>\n",
       "      <td>1</td>\n",
       "      <td>0</td>\n",
       "      <td>0</td>\n",
       "      <td>2</td>\n",
       "      <td>0.0</td>\n",
       "      <td>0</td>\n",
       "      <td>BB</td>\n",
       "      <td>PRT</td>\n",
       "      <td>Direct</td>\n",
       "      <td>Direct</td>\n",
       "      <td>0</td>\n",
       "      <td>0</td>\n",
       "      <td>0</td>\n",
       "      <td>C</td>\n",
       "      <td>C</td>\n",
       "      <td>4</td>\n",
       "      <td>No Deposit</td>\n",
       "      <td>NaN</td>\n",
       "      <td>NaN</td>\n",
       "      <td>0</td>\n",
       "      <td>Transient</td>\n",
       "      <td>0.0</td>\n",
       "      <td>0</td>\n",
       "      <td>0</td>\n",
       "      <td>Check-Out</td>\n",
       "      <td>2015-07-01</td>\n",
       "      <td>Andrea Baker</td>\n",
       "      <td>Andrea_Baker94@aol.com</td>\n",
       "      <td>858-637-6955</td>\n",
       "      <td>************9157</td>\n",
       "    </tr>\n",
       "    <tr>\n",
       "      <th>2</th>\n",
       "      <td>Resort Hotel</td>\n",
       "      <td>0</td>\n",
       "      <td>7</td>\n",
       "      <td>2015</td>\n",
       "      <td>July</td>\n",
       "      <td>27</td>\n",
       "      <td>1</td>\n",
       "      <td>0</td>\n",
       "      <td>1</td>\n",
       "      <td>1</td>\n",
       "      <td>0.0</td>\n",
       "      <td>0</td>\n",
       "      <td>BB</td>\n",
       "      <td>GBR</td>\n",
       "      <td>Direct</td>\n",
       "      <td>Direct</td>\n",
       "      <td>0</td>\n",
       "      <td>0</td>\n",
       "      <td>0</td>\n",
       "      <td>A</td>\n",
       "      <td>C</td>\n",
       "      <td>0</td>\n",
       "      <td>No Deposit</td>\n",
       "      <td>NaN</td>\n",
       "      <td>NaN</td>\n",
       "      <td>0</td>\n",
       "      <td>Transient</td>\n",
       "      <td>75.0</td>\n",
       "      <td>0</td>\n",
       "      <td>0</td>\n",
       "      <td>Check-Out</td>\n",
       "      <td>2015-07-02</td>\n",
       "      <td>Rebecca Parker</td>\n",
       "      <td>Rebecca_Parker@comcast.net</td>\n",
       "      <td>652-885-2745</td>\n",
       "      <td>************3734</td>\n",
       "    </tr>\n",
       "    <tr>\n",
       "      <th>3</th>\n",
       "      <td>Resort Hotel</td>\n",
       "      <td>0</td>\n",
       "      <td>13</td>\n",
       "      <td>2015</td>\n",
       "      <td>July</td>\n",
       "      <td>27</td>\n",
       "      <td>1</td>\n",
       "      <td>0</td>\n",
       "      <td>1</td>\n",
       "      <td>1</td>\n",
       "      <td>0.0</td>\n",
       "      <td>0</td>\n",
       "      <td>BB</td>\n",
       "      <td>GBR</td>\n",
       "      <td>Corporate</td>\n",
       "      <td>Corporate</td>\n",
       "      <td>0</td>\n",
       "      <td>0</td>\n",
       "      <td>0</td>\n",
       "      <td>A</td>\n",
       "      <td>A</td>\n",
       "      <td>0</td>\n",
       "      <td>No Deposit</td>\n",
       "      <td>304.0</td>\n",
       "      <td>NaN</td>\n",
       "      <td>0</td>\n",
       "      <td>Transient</td>\n",
       "      <td>75.0</td>\n",
       "      <td>0</td>\n",
       "      <td>0</td>\n",
       "      <td>Check-Out</td>\n",
       "      <td>2015-07-02</td>\n",
       "      <td>Laura Murray</td>\n",
       "      <td>Laura_M@gmail.com</td>\n",
       "      <td>364-656-8427</td>\n",
       "      <td>************5677</td>\n",
       "    </tr>\n",
       "    <tr>\n",
       "      <th>4</th>\n",
       "      <td>Resort Hotel</td>\n",
       "      <td>0</td>\n",
       "      <td>14</td>\n",
       "      <td>2015</td>\n",
       "      <td>July</td>\n",
       "      <td>27</td>\n",
       "      <td>1</td>\n",
       "      <td>0</td>\n",
       "      <td>2</td>\n",
       "      <td>2</td>\n",
       "      <td>0.0</td>\n",
       "      <td>0</td>\n",
       "      <td>BB</td>\n",
       "      <td>GBR</td>\n",
       "      <td>Online TA</td>\n",
       "      <td>TA/TO</td>\n",
       "      <td>0</td>\n",
       "      <td>0</td>\n",
       "      <td>0</td>\n",
       "      <td>A</td>\n",
       "      <td>A</td>\n",
       "      <td>0</td>\n",
       "      <td>No Deposit</td>\n",
       "      <td>240.0</td>\n",
       "      <td>NaN</td>\n",
       "      <td>0</td>\n",
       "      <td>Transient</td>\n",
       "      <td>98.0</td>\n",
       "      <td>0</td>\n",
       "      <td>1</td>\n",
       "      <td>Check-Out</td>\n",
       "      <td>2015-07-03</td>\n",
       "      <td>Linda Hines</td>\n",
       "      <td>LHines@verizon.com</td>\n",
       "      <td>713-226-5883</td>\n",
       "      <td>************5498</td>\n",
       "    </tr>\n",
       "    <tr>\n",
       "      <th>5</th>\n",
       "      <td>Resort Hotel</td>\n",
       "      <td>0</td>\n",
       "      <td>14</td>\n",
       "      <td>2015</td>\n",
       "      <td>July</td>\n",
       "      <td>27</td>\n",
       "      <td>1</td>\n",
       "      <td>0</td>\n",
       "      <td>2</td>\n",
       "      <td>2</td>\n",
       "      <td>0.0</td>\n",
       "      <td>0</td>\n",
       "      <td>BB</td>\n",
       "      <td>GBR</td>\n",
       "      <td>Online TA</td>\n",
       "      <td>TA/TO</td>\n",
       "      <td>0</td>\n",
       "      <td>0</td>\n",
       "      <td>0</td>\n",
       "      <td>A</td>\n",
       "      <td>A</td>\n",
       "      <td>0</td>\n",
       "      <td>No Deposit</td>\n",
       "      <td>240.0</td>\n",
       "      <td>NaN</td>\n",
       "      <td>0</td>\n",
       "      <td>Transient</td>\n",
       "      <td>98.0</td>\n",
       "      <td>0</td>\n",
       "      <td>1</td>\n",
       "      <td>Check-Out</td>\n",
       "      <td>2015-07-03</td>\n",
       "      <td>Jasmine Fletcher</td>\n",
       "      <td>JFletcher43@xfinity.com</td>\n",
       "      <td>190-271-6743</td>\n",
       "      <td>************9263</td>\n",
       "    </tr>\n",
       "    <tr>\n",
       "      <th>6</th>\n",
       "      <td>Resort Hotel</td>\n",
       "      <td>0</td>\n",
       "      <td>0</td>\n",
       "      <td>2015</td>\n",
       "      <td>July</td>\n",
       "      <td>27</td>\n",
       "      <td>1</td>\n",
       "      <td>0</td>\n",
       "      <td>2</td>\n",
       "      <td>2</td>\n",
       "      <td>0.0</td>\n",
       "      <td>0</td>\n",
       "      <td>BB</td>\n",
       "      <td>PRT</td>\n",
       "      <td>Direct</td>\n",
       "      <td>Direct</td>\n",
       "      <td>0</td>\n",
       "      <td>0</td>\n",
       "      <td>0</td>\n",
       "      <td>C</td>\n",
       "      <td>C</td>\n",
       "      <td>0</td>\n",
       "      <td>No Deposit</td>\n",
       "      <td>NaN</td>\n",
       "      <td>NaN</td>\n",
       "      <td>0</td>\n",
       "      <td>Transient</td>\n",
       "      <td>107.0</td>\n",
       "      <td>0</td>\n",
       "      <td>0</td>\n",
       "      <td>Check-Out</td>\n",
       "      <td>2015-07-03</td>\n",
       "      <td>Dylan Rangel</td>\n",
       "      <td>Rangel.Dylan@comcast.net</td>\n",
       "      <td>420-332-5209</td>\n",
       "      <td>************6994</td>\n",
       "    </tr>\n",
       "    <tr>\n",
       "      <th>7</th>\n",
       "      <td>Resort Hotel</td>\n",
       "      <td>0</td>\n",
       "      <td>9</td>\n",
       "      <td>2015</td>\n",
       "      <td>July</td>\n",
       "      <td>27</td>\n",
       "      <td>1</td>\n",
       "      <td>0</td>\n",
       "      <td>2</td>\n",
       "      <td>2</td>\n",
       "      <td>0.0</td>\n",
       "      <td>0</td>\n",
       "      <td>FB</td>\n",
       "      <td>PRT</td>\n",
       "      <td>Direct</td>\n",
       "      <td>Direct</td>\n",
       "      <td>0</td>\n",
       "      <td>0</td>\n",
       "      <td>0</td>\n",
       "      <td>C</td>\n",
       "      <td>C</td>\n",
       "      <td>0</td>\n",
       "      <td>No Deposit</td>\n",
       "      <td>303.0</td>\n",
       "      <td>NaN</td>\n",
       "      <td>0</td>\n",
       "      <td>Transient</td>\n",
       "      <td>103.0</td>\n",
       "      <td>0</td>\n",
       "      <td>1</td>\n",
       "      <td>Check-Out</td>\n",
       "      <td>2015-07-03</td>\n",
       "      <td>William Velez</td>\n",
       "      <td>Velez_William@mail.com</td>\n",
       "      <td>286-669-4333</td>\n",
       "      <td>************8729</td>\n",
       "    </tr>\n",
       "    <tr>\n",
       "      <th>8</th>\n",
       "      <td>Resort Hotel</td>\n",
       "      <td>1</td>\n",
       "      <td>85</td>\n",
       "      <td>2015</td>\n",
       "      <td>July</td>\n",
       "      <td>27</td>\n",
       "      <td>1</td>\n",
       "      <td>0</td>\n",
       "      <td>3</td>\n",
       "      <td>2</td>\n",
       "      <td>0.0</td>\n",
       "      <td>0</td>\n",
       "      <td>BB</td>\n",
       "      <td>PRT</td>\n",
       "      <td>Online TA</td>\n",
       "      <td>TA/TO</td>\n",
       "      <td>0</td>\n",
       "      <td>0</td>\n",
       "      <td>0</td>\n",
       "      <td>A</td>\n",
       "      <td>A</td>\n",
       "      <td>0</td>\n",
       "      <td>No Deposit</td>\n",
       "      <td>240.0</td>\n",
       "      <td>NaN</td>\n",
       "      <td>0</td>\n",
       "      <td>Transient</td>\n",
       "      <td>82.0</td>\n",
       "      <td>0</td>\n",
       "      <td>1</td>\n",
       "      <td>Canceled</td>\n",
       "      <td>2015-05-06</td>\n",
       "      <td>Steven Murphy</td>\n",
       "      <td>Steven.Murphy54@aol.com</td>\n",
       "      <td>341-726-5787</td>\n",
       "      <td>************3639</td>\n",
       "    </tr>\n",
       "    <tr>\n",
       "      <th>9</th>\n",
       "      <td>Resort Hotel</td>\n",
       "      <td>1</td>\n",
       "      <td>75</td>\n",
       "      <td>2015</td>\n",
       "      <td>July</td>\n",
       "      <td>27</td>\n",
       "      <td>1</td>\n",
       "      <td>0</td>\n",
       "      <td>3</td>\n",
       "      <td>2</td>\n",
       "      <td>0.0</td>\n",
       "      <td>0</td>\n",
       "      <td>HB</td>\n",
       "      <td>PRT</td>\n",
       "      <td>Offline TA/TO</td>\n",
       "      <td>TA/TO</td>\n",
       "      <td>0</td>\n",
       "      <td>0</td>\n",
       "      <td>0</td>\n",
       "      <td>D</td>\n",
       "      <td>D</td>\n",
       "      <td>0</td>\n",
       "      <td>No Deposit</td>\n",
       "      <td>15.0</td>\n",
       "      <td>NaN</td>\n",
       "      <td>0</td>\n",
       "      <td>Transient</td>\n",
       "      <td>105.5</td>\n",
       "      <td>0</td>\n",
       "      <td>0</td>\n",
       "      <td>Canceled</td>\n",
       "      <td>2015-04-22</td>\n",
       "      <td>Michael Moore</td>\n",
       "      <td>MichaelMoore81@outlook.com</td>\n",
       "      <td>316-648-6176</td>\n",
       "      <td>************9190</td>\n",
       "    </tr>\n",
       "  </tbody>\n",
       "</table>\n",
       "</div>"
      ],
      "text/plain": [
       "          hotel  is_canceled  lead_time  arrival_date_year arrival_date_month  \\\n",
       "0  Resort Hotel            0        342               2015               July   \n",
       "1  Resort Hotel            0        737               2015               July   \n",
       "2  Resort Hotel            0          7               2015               July   \n",
       "3  Resort Hotel            0         13               2015               July   \n",
       "4  Resort Hotel            0         14               2015               July   \n",
       "5  Resort Hotel            0         14               2015               July   \n",
       "6  Resort Hotel            0          0               2015               July   \n",
       "7  Resort Hotel            0          9               2015               July   \n",
       "8  Resort Hotel            1         85               2015               July   \n",
       "9  Resort Hotel            1         75               2015               July   \n",
       "\n",
       "   arrival_date_week_number  arrival_date_day_of_month  \\\n",
       "0                        27                          1   \n",
       "1                        27                          1   \n",
       "2                        27                          1   \n",
       "3                        27                          1   \n",
       "4                        27                          1   \n",
       "5                        27                          1   \n",
       "6                        27                          1   \n",
       "7                        27                          1   \n",
       "8                        27                          1   \n",
       "9                        27                          1   \n",
       "\n",
       "   stays_in_weekend_nights  stays_in_week_nights  adults  children  babies  \\\n",
       "0                        0                     0       2       0.0       0   \n",
       "1                        0                     0       2       0.0       0   \n",
       "2                        0                     1       1       0.0       0   \n",
       "3                        0                     1       1       0.0       0   \n",
       "4                        0                     2       2       0.0       0   \n",
       "5                        0                     2       2       0.0       0   \n",
       "6                        0                     2       2       0.0       0   \n",
       "7                        0                     2       2       0.0       0   \n",
       "8                        0                     3       2       0.0       0   \n",
       "9                        0                     3       2       0.0       0   \n",
       "\n",
       "  meal country market_segment distribution_channel  is_repeated_guest  \\\n",
       "0   BB     PRT         Direct               Direct                  0   \n",
       "1   BB     PRT         Direct               Direct                  0   \n",
       "2   BB     GBR         Direct               Direct                  0   \n",
       "3   BB     GBR      Corporate            Corporate                  0   \n",
       "4   BB     GBR      Online TA                TA/TO                  0   \n",
       "5   BB     GBR      Online TA                TA/TO                  0   \n",
       "6   BB     PRT         Direct               Direct                  0   \n",
       "7   FB     PRT         Direct               Direct                  0   \n",
       "8   BB     PRT      Online TA                TA/TO                  0   \n",
       "9   HB     PRT  Offline TA/TO                TA/TO                  0   \n",
       "\n",
       "   previous_cancellations  previous_bookings_not_canceled reserved_room_type  \\\n",
       "0                       0                               0                  C   \n",
       "1                       0                               0                  C   \n",
       "2                       0                               0                  A   \n",
       "3                       0                               0                  A   \n",
       "4                       0                               0                  A   \n",
       "5                       0                               0                  A   \n",
       "6                       0                               0                  C   \n",
       "7                       0                               0                  C   \n",
       "8                       0                               0                  A   \n",
       "9                       0                               0                  D   \n",
       "\n",
       "  assigned_room_type  booking_changes deposit_type  agent  company  \\\n",
       "0                  C                3   No Deposit    NaN      NaN   \n",
       "1                  C                4   No Deposit    NaN      NaN   \n",
       "2                  C                0   No Deposit    NaN      NaN   \n",
       "3                  A                0   No Deposit  304.0      NaN   \n",
       "4                  A                0   No Deposit  240.0      NaN   \n",
       "5                  A                0   No Deposit  240.0      NaN   \n",
       "6                  C                0   No Deposit    NaN      NaN   \n",
       "7                  C                0   No Deposit  303.0      NaN   \n",
       "8                  A                0   No Deposit  240.0      NaN   \n",
       "9                  D                0   No Deposit   15.0      NaN   \n",
       "\n",
       "   days_in_waiting_list customer_type    adr  required_car_parking_spaces  \\\n",
       "0                     0     Transient    0.0                            0   \n",
       "1                     0     Transient    0.0                            0   \n",
       "2                     0     Transient   75.0                            0   \n",
       "3                     0     Transient   75.0                            0   \n",
       "4                     0     Transient   98.0                            0   \n",
       "5                     0     Transient   98.0                            0   \n",
       "6                     0     Transient  107.0                            0   \n",
       "7                     0     Transient  103.0                            0   \n",
       "8                     0     Transient   82.0                            0   \n",
       "9                     0     Transient  105.5                            0   \n",
       "\n",
       "   total_of_special_requests reservation_status reservation_status_date  \\\n",
       "0                          0          Check-Out              2015-07-01   \n",
       "1                          0          Check-Out              2015-07-01   \n",
       "2                          0          Check-Out              2015-07-02   \n",
       "3                          0          Check-Out              2015-07-02   \n",
       "4                          1          Check-Out              2015-07-03   \n",
       "5                          1          Check-Out              2015-07-03   \n",
       "6                          0          Check-Out              2015-07-03   \n",
       "7                          1          Check-Out              2015-07-03   \n",
       "8                          1           Canceled              2015-05-06   \n",
       "9                          0           Canceled              2015-04-22   \n",
       "\n",
       "               name                        email  phone-number  \\\n",
       "0     Ernest Barnes  Ernest.Barnes31@outlook.com  669-792-1661   \n",
       "1      Andrea Baker       Andrea_Baker94@aol.com  858-637-6955   \n",
       "2    Rebecca Parker   Rebecca_Parker@comcast.net  652-885-2745   \n",
       "3      Laura Murray            Laura_M@gmail.com  364-656-8427   \n",
       "4       Linda Hines           LHines@verizon.com  713-226-5883   \n",
       "5  Jasmine Fletcher      JFletcher43@xfinity.com  190-271-6743   \n",
       "6      Dylan Rangel     Rangel.Dylan@comcast.net  420-332-5209   \n",
       "7     William Velez       Velez_William@mail.com  286-669-4333   \n",
       "8     Steven Murphy      Steven.Murphy54@aol.com  341-726-5787   \n",
       "9     Michael Moore   MichaelMoore81@outlook.com  316-648-6176   \n",
       "\n",
       "        credit_card  \n",
       "0  ************4322  \n",
       "1  ************9157  \n",
       "2  ************3734  \n",
       "3  ************5677  \n",
       "4  ************5498  \n",
       "5  ************9263  \n",
       "6  ************6994  \n",
       "7  ************8729  \n",
       "8  ************3639  \n",
       "9  ************9190  "
      ]
     },
     "execution_count": 6,
     "metadata": {},
     "output_type": "execute_result"
    }
   ],
   "source": [
    "df.head(10)"
   ]
  },
  {
   "cell_type": "code",
   "execution_count": 7,
   "metadata": {},
   "outputs": [
    {
     "name": "stdout",
     "output_type": "stream",
     "text": [
      "<class 'pandas.core.frame.DataFrame'>\n",
      "RangeIndex: 119390 entries, 0 to 119389\n",
      "Data columns (total 36 columns):\n",
      " #   Column                          Non-Null Count   Dtype  \n",
      "---  ------                          --------------   -----  \n",
      " 0   hotel                           119390 non-null  object \n",
      " 1   is_canceled                     119390 non-null  int64  \n",
      " 2   lead_time                       119390 non-null  int64  \n",
      " 3   arrival_date_year               119390 non-null  int64  \n",
      " 4   arrival_date_month              119390 non-null  object \n",
      " 5   arrival_date_week_number        119390 non-null  int64  \n",
      " 6   arrival_date_day_of_month       119390 non-null  int64  \n",
      " 7   stays_in_weekend_nights         119390 non-null  int64  \n",
      " 8   stays_in_week_nights            119390 non-null  int64  \n",
      " 9   adults                          119390 non-null  int64  \n",
      " 10  children                        119386 non-null  float64\n",
      " 11  babies                          119390 non-null  int64  \n",
      " 12  meal                            119390 non-null  object \n",
      " 13  country                         118902 non-null  object \n",
      " 14  market_segment                  119390 non-null  object \n",
      " 15  distribution_channel            119390 non-null  object \n",
      " 16  is_repeated_guest               119390 non-null  int64  \n",
      " 17  previous_cancellations          119390 non-null  int64  \n",
      " 18  previous_bookings_not_canceled  119390 non-null  int64  \n",
      " 19  reserved_room_type              119390 non-null  object \n",
      " 20  assigned_room_type              119390 non-null  object \n",
      " 21  booking_changes                 119390 non-null  int64  \n",
      " 22  deposit_type                    119390 non-null  object \n",
      " 23  agent                           103050 non-null  float64\n",
      " 24  company                         6797 non-null    float64\n",
      " 25  days_in_waiting_list            119390 non-null  int64  \n",
      " 26  customer_type                   119390 non-null  object \n",
      " 27  adr                             119390 non-null  float64\n",
      " 28  required_car_parking_spaces     119390 non-null  int64  \n",
      " 29  total_of_special_requests       119390 non-null  int64  \n",
      " 30  reservation_status              119390 non-null  object \n",
      " 31  reservation_status_date         119390 non-null  object \n",
      " 32  name                            119390 non-null  object \n",
      " 33  email                           119390 non-null  object \n",
      " 34  phone-number                    119390 non-null  object \n",
      " 35  credit_card                     119390 non-null  object \n",
      "dtypes: float64(4), int64(16), object(16)\n",
      "memory usage: 32.8+ MB\n"
     ]
    }
   ],
   "source": [
    "df.info()"
   ]
  },
  {
   "cell_type": "markdown",
   "metadata": {},
   "source": [
    "From the above we have find that there are 36 columns\n",
    "\n",
    "**Data types:**\n",
    "* Categorical - hotel, is_canceled, customer_type, is_repeated_guest, meal, country, market_segment, distribution_channel, reserved_room_type, assigned_room_type, deposit_type, agent, company, reservation_status,\n",
    "* Numerical - lead_time, stays_in_weekend_nights, stays_in_week_nights, adults, children, babies, previous_cancellations, booking_changes, previous_bookings_not_canceled, days_in_waiting_list, adr, required_car_parking_spaces, total_of_special_requests\t\n",
    "* Ordinal - arrival_date_year, arrival_date_month, arrival_date_week_number, arrival_date_day_of_month,  reservation_status_date\n"
   ]
  },
  {
   "cell_type": "code",
   "execution_count": 8,
   "metadata": {},
   "outputs": [
    {
     "data": {
      "text/plain": [
       "Index(['hotel', 'is_canceled', 'lead_time', 'arrival_date_year',\n",
       "       'arrival_date_month', 'arrival_date_week_number',\n",
       "       'arrival_date_day_of_month', 'stays_in_weekend_nights',\n",
       "       'stays_in_week_nights', 'adults', 'children', 'babies', 'meal',\n",
       "       'country', 'market_segment', 'distribution_channel',\n",
       "       'is_repeated_guest', 'previous_cancellations',\n",
       "       'previous_bookings_not_canceled', 'reserved_room_type',\n",
       "       'assigned_room_type', 'booking_changes', 'deposit_type', 'agent',\n",
       "       'company', 'days_in_waiting_list', 'customer_type', 'adr',\n",
       "       'required_car_parking_spaces', 'total_of_special_requests',\n",
       "       'reservation_status', 'reservation_status_date', 'name', 'email',\n",
       "       'phone-number', 'credit_card'],\n",
       "      dtype='object')"
      ]
     },
     "execution_count": 8,
     "metadata": {},
     "output_type": "execute_result"
    }
   ],
   "source": [
    "df.columns"
   ]
  },
  {
   "cell_type": "code",
   "execution_count": 9,
   "metadata": {},
   "outputs": [
    {
     "data": {
      "text/html": [
       "<div>\n",
       "<style scoped>\n",
       "    .dataframe tbody tr th:only-of-type {\n",
       "        vertical-align: middle;\n",
       "    }\n",
       "\n",
       "    .dataframe tbody tr th {\n",
       "        vertical-align: top;\n",
       "    }\n",
       "\n",
       "    .dataframe thead th {\n",
       "        text-align: right;\n",
       "    }\n",
       "</style>\n",
       "<table border=\"1\" class=\"dataframe\">\n",
       "  <thead>\n",
       "    <tr style=\"text-align: right;\">\n",
       "      <th></th>\n",
       "      <th>is_canceled</th>\n",
       "      <th>lead_time</th>\n",
       "      <th>arrival_date_year</th>\n",
       "      <th>arrival_date_week_number</th>\n",
       "      <th>arrival_date_day_of_month</th>\n",
       "      <th>stays_in_weekend_nights</th>\n",
       "      <th>stays_in_week_nights</th>\n",
       "      <th>adults</th>\n",
       "      <th>children</th>\n",
       "      <th>babies</th>\n",
       "      <th>is_repeated_guest</th>\n",
       "      <th>previous_cancellations</th>\n",
       "      <th>previous_bookings_not_canceled</th>\n",
       "      <th>booking_changes</th>\n",
       "      <th>agent</th>\n",
       "      <th>company</th>\n",
       "      <th>days_in_waiting_list</th>\n",
       "      <th>adr</th>\n",
       "      <th>required_car_parking_spaces</th>\n",
       "      <th>total_of_special_requests</th>\n",
       "    </tr>\n",
       "  </thead>\n",
       "  <tbody>\n",
       "    <tr>\n",
       "      <th>count</th>\n",
       "      <td>119390.000000</td>\n",
       "      <td>119390.000000</td>\n",
       "      <td>119390.000000</td>\n",
       "      <td>119390.000000</td>\n",
       "      <td>119390.000000</td>\n",
       "      <td>119390.000000</td>\n",
       "      <td>119390.000000</td>\n",
       "      <td>119390.000000</td>\n",
       "      <td>119386.000000</td>\n",
       "      <td>119390.000000</td>\n",
       "      <td>119390.000000</td>\n",
       "      <td>119390.000000</td>\n",
       "      <td>119390.000000</td>\n",
       "      <td>119390.000000</td>\n",
       "      <td>103050.000000</td>\n",
       "      <td>6797.000000</td>\n",
       "      <td>119390.000000</td>\n",
       "      <td>119390.000000</td>\n",
       "      <td>119390.000000</td>\n",
       "      <td>119390.000000</td>\n",
       "    </tr>\n",
       "    <tr>\n",
       "      <th>mean</th>\n",
       "      <td>0.370416</td>\n",
       "      <td>104.011416</td>\n",
       "      <td>2016.156554</td>\n",
       "      <td>27.165173</td>\n",
       "      <td>15.798241</td>\n",
       "      <td>0.927599</td>\n",
       "      <td>2.500302</td>\n",
       "      <td>1.856403</td>\n",
       "      <td>0.103890</td>\n",
       "      <td>0.007949</td>\n",
       "      <td>0.031912</td>\n",
       "      <td>0.087118</td>\n",
       "      <td>0.137097</td>\n",
       "      <td>0.221124</td>\n",
       "      <td>86.693382</td>\n",
       "      <td>189.266735</td>\n",
       "      <td>2.321149</td>\n",
       "      <td>101.831122</td>\n",
       "      <td>0.062518</td>\n",
       "      <td>0.571363</td>\n",
       "    </tr>\n",
       "    <tr>\n",
       "      <th>std</th>\n",
       "      <td>0.482918</td>\n",
       "      <td>106.863097</td>\n",
       "      <td>0.707476</td>\n",
       "      <td>13.605138</td>\n",
       "      <td>8.780829</td>\n",
       "      <td>0.998613</td>\n",
       "      <td>1.908286</td>\n",
       "      <td>0.579261</td>\n",
       "      <td>0.398561</td>\n",
       "      <td>0.097436</td>\n",
       "      <td>0.175767</td>\n",
       "      <td>0.844336</td>\n",
       "      <td>1.497437</td>\n",
       "      <td>0.652306</td>\n",
       "      <td>110.774548</td>\n",
       "      <td>131.655015</td>\n",
       "      <td>17.594721</td>\n",
       "      <td>50.535790</td>\n",
       "      <td>0.245291</td>\n",
       "      <td>0.792798</td>\n",
       "    </tr>\n",
       "    <tr>\n",
       "      <th>min</th>\n",
       "      <td>0.000000</td>\n",
       "      <td>0.000000</td>\n",
       "      <td>2015.000000</td>\n",
       "      <td>1.000000</td>\n",
       "      <td>1.000000</td>\n",
       "      <td>0.000000</td>\n",
       "      <td>0.000000</td>\n",
       "      <td>0.000000</td>\n",
       "      <td>0.000000</td>\n",
       "      <td>0.000000</td>\n",
       "      <td>0.000000</td>\n",
       "      <td>0.000000</td>\n",
       "      <td>0.000000</td>\n",
       "      <td>0.000000</td>\n",
       "      <td>1.000000</td>\n",
       "      <td>6.000000</td>\n",
       "      <td>0.000000</td>\n",
       "      <td>-6.380000</td>\n",
       "      <td>0.000000</td>\n",
       "      <td>0.000000</td>\n",
       "    </tr>\n",
       "    <tr>\n",
       "      <th>25%</th>\n",
       "      <td>0.000000</td>\n",
       "      <td>18.000000</td>\n",
       "      <td>2016.000000</td>\n",
       "      <td>16.000000</td>\n",
       "      <td>8.000000</td>\n",
       "      <td>0.000000</td>\n",
       "      <td>1.000000</td>\n",
       "      <td>2.000000</td>\n",
       "      <td>0.000000</td>\n",
       "      <td>0.000000</td>\n",
       "      <td>0.000000</td>\n",
       "      <td>0.000000</td>\n",
       "      <td>0.000000</td>\n",
       "      <td>0.000000</td>\n",
       "      <td>9.000000</td>\n",
       "      <td>62.000000</td>\n",
       "      <td>0.000000</td>\n",
       "      <td>69.290000</td>\n",
       "      <td>0.000000</td>\n",
       "      <td>0.000000</td>\n",
       "    </tr>\n",
       "    <tr>\n",
       "      <th>50%</th>\n",
       "      <td>0.000000</td>\n",
       "      <td>69.000000</td>\n",
       "      <td>2016.000000</td>\n",
       "      <td>28.000000</td>\n",
       "      <td>16.000000</td>\n",
       "      <td>1.000000</td>\n",
       "      <td>2.000000</td>\n",
       "      <td>2.000000</td>\n",
       "      <td>0.000000</td>\n",
       "      <td>0.000000</td>\n",
       "      <td>0.000000</td>\n",
       "      <td>0.000000</td>\n",
       "      <td>0.000000</td>\n",
       "      <td>0.000000</td>\n",
       "      <td>14.000000</td>\n",
       "      <td>179.000000</td>\n",
       "      <td>0.000000</td>\n",
       "      <td>94.575000</td>\n",
       "      <td>0.000000</td>\n",
       "      <td>0.000000</td>\n",
       "    </tr>\n",
       "    <tr>\n",
       "      <th>75%</th>\n",
       "      <td>1.000000</td>\n",
       "      <td>160.000000</td>\n",
       "      <td>2017.000000</td>\n",
       "      <td>38.000000</td>\n",
       "      <td>23.000000</td>\n",
       "      <td>2.000000</td>\n",
       "      <td>3.000000</td>\n",
       "      <td>2.000000</td>\n",
       "      <td>0.000000</td>\n",
       "      <td>0.000000</td>\n",
       "      <td>0.000000</td>\n",
       "      <td>0.000000</td>\n",
       "      <td>0.000000</td>\n",
       "      <td>0.000000</td>\n",
       "      <td>229.000000</td>\n",
       "      <td>270.000000</td>\n",
       "      <td>0.000000</td>\n",
       "      <td>126.000000</td>\n",
       "      <td>0.000000</td>\n",
       "      <td>1.000000</td>\n",
       "    </tr>\n",
       "    <tr>\n",
       "      <th>max</th>\n",
       "      <td>1.000000</td>\n",
       "      <td>737.000000</td>\n",
       "      <td>2017.000000</td>\n",
       "      <td>53.000000</td>\n",
       "      <td>31.000000</td>\n",
       "      <td>19.000000</td>\n",
       "      <td>50.000000</td>\n",
       "      <td>55.000000</td>\n",
       "      <td>10.000000</td>\n",
       "      <td>10.000000</td>\n",
       "      <td>1.000000</td>\n",
       "      <td>26.000000</td>\n",
       "      <td>72.000000</td>\n",
       "      <td>21.000000</td>\n",
       "      <td>535.000000</td>\n",
       "      <td>543.000000</td>\n",
       "      <td>391.000000</td>\n",
       "      <td>5400.000000</td>\n",
       "      <td>8.000000</td>\n",
       "      <td>5.000000</td>\n",
       "    </tr>\n",
       "  </tbody>\n",
       "</table>\n",
       "</div>"
      ],
      "text/plain": [
       "         is_canceled      lead_time  arrival_date_year  \\\n",
       "count  119390.000000  119390.000000      119390.000000   \n",
       "mean        0.370416     104.011416        2016.156554   \n",
       "std         0.482918     106.863097           0.707476   \n",
       "min         0.000000       0.000000        2015.000000   \n",
       "25%         0.000000      18.000000        2016.000000   \n",
       "50%         0.000000      69.000000        2016.000000   \n",
       "75%         1.000000     160.000000        2017.000000   \n",
       "max         1.000000     737.000000        2017.000000   \n",
       "\n",
       "       arrival_date_week_number  arrival_date_day_of_month  \\\n",
       "count             119390.000000              119390.000000   \n",
       "mean                  27.165173                  15.798241   \n",
       "std                   13.605138                   8.780829   \n",
       "min                    1.000000                   1.000000   \n",
       "25%                   16.000000                   8.000000   \n",
       "50%                   28.000000                  16.000000   \n",
       "75%                   38.000000                  23.000000   \n",
       "max                   53.000000                  31.000000   \n",
       "\n",
       "       stays_in_weekend_nights  stays_in_week_nights         adults  \\\n",
       "count            119390.000000         119390.000000  119390.000000   \n",
       "mean                  0.927599              2.500302       1.856403   \n",
       "std                   0.998613              1.908286       0.579261   \n",
       "min                   0.000000              0.000000       0.000000   \n",
       "25%                   0.000000              1.000000       2.000000   \n",
       "50%                   1.000000              2.000000       2.000000   \n",
       "75%                   2.000000              3.000000       2.000000   \n",
       "max                  19.000000             50.000000      55.000000   \n",
       "\n",
       "            children         babies  is_repeated_guest  \\\n",
       "count  119386.000000  119390.000000      119390.000000   \n",
       "mean        0.103890       0.007949           0.031912   \n",
       "std         0.398561       0.097436           0.175767   \n",
       "min         0.000000       0.000000           0.000000   \n",
       "25%         0.000000       0.000000           0.000000   \n",
       "50%         0.000000       0.000000           0.000000   \n",
       "75%         0.000000       0.000000           0.000000   \n",
       "max        10.000000      10.000000           1.000000   \n",
       "\n",
       "       previous_cancellations  previous_bookings_not_canceled  \\\n",
       "count           119390.000000                   119390.000000   \n",
       "mean                 0.087118                        0.137097   \n",
       "std                  0.844336                        1.497437   \n",
       "min                  0.000000                        0.000000   \n",
       "25%                  0.000000                        0.000000   \n",
       "50%                  0.000000                        0.000000   \n",
       "75%                  0.000000                        0.000000   \n",
       "max                 26.000000                       72.000000   \n",
       "\n",
       "       booking_changes          agent      company  days_in_waiting_list  \\\n",
       "count    119390.000000  103050.000000  6797.000000         119390.000000   \n",
       "mean          0.221124      86.693382   189.266735              2.321149   \n",
       "std           0.652306     110.774548   131.655015             17.594721   \n",
       "min           0.000000       1.000000     6.000000              0.000000   \n",
       "25%           0.000000       9.000000    62.000000              0.000000   \n",
       "50%           0.000000      14.000000   179.000000              0.000000   \n",
       "75%           0.000000     229.000000   270.000000              0.000000   \n",
       "max          21.000000     535.000000   543.000000            391.000000   \n",
       "\n",
       "                 adr  required_car_parking_spaces  total_of_special_requests  \n",
       "count  119390.000000                119390.000000              119390.000000  \n",
       "mean      101.831122                     0.062518                   0.571363  \n",
       "std        50.535790                     0.245291                   0.792798  \n",
       "min        -6.380000                     0.000000                   0.000000  \n",
       "25%        69.290000                     0.000000                   0.000000  \n",
       "50%        94.575000                     0.000000                   0.000000  \n",
       "75%       126.000000                     0.000000                   1.000000  \n",
       "max      5400.000000                     8.000000                   5.000000  "
      ]
     },
     "execution_count": 9,
     "metadata": {},
     "output_type": "execute_result"
    }
   ],
   "source": [
    "df.describe()"
   ]
  },
  {
   "cell_type": "markdown",
   "metadata": {},
   "source": [
    "* The following columns previous_cancellations, previous_bookings_not_canceled, booking_changes days_in_waiting_list, required_car_parking_spaces, total_of_special_requests have only a maximum value. This shows that these features contribute to the decision of cancellation only in very few cases."
   ]
  },
  {
   "cell_type": "code",
   "execution_count": 10,
   "metadata": {},
   "outputs": [
    {
     "data": {
      "text/plain": [
       "hotel                                  0\n",
       "is_canceled                            0\n",
       "lead_time                              0\n",
       "arrival_date_year                      0\n",
       "arrival_date_month                     0\n",
       "arrival_date_week_number               0\n",
       "arrival_date_day_of_month              0\n",
       "stays_in_weekend_nights                0\n",
       "stays_in_week_nights                   0\n",
       "adults                                 0\n",
       "children                               4\n",
       "babies                                 0\n",
       "meal                                   0\n",
       "country                              488\n",
       "market_segment                         0\n",
       "distribution_channel                   0\n",
       "is_repeated_guest                      0\n",
       "previous_cancellations                 0\n",
       "previous_bookings_not_canceled         0\n",
       "reserved_room_type                     0\n",
       "assigned_room_type                     0\n",
       "booking_changes                        0\n",
       "deposit_type                           0\n",
       "agent                              16340\n",
       "company                           112593\n",
       "days_in_waiting_list                   0\n",
       "customer_type                          0\n",
       "adr                                    0\n",
       "required_car_parking_spaces            0\n",
       "total_of_special_requests              0\n",
       "reservation_status                     0\n",
       "reservation_status_date                0\n",
       "name                                   0\n",
       "email                                  0\n",
       "phone-number                           0\n",
       "credit_card                            0\n",
       "dtype: int64"
      ]
     },
     "execution_count": 10,
     "metadata": {},
     "output_type": "execute_result"
    }
   ],
   "source": [
    "df.isnull().sum()"
   ]
  },
  {
   "cell_type": "markdown",
   "metadata": {},
   "source": [
    "**Mising values:**\n",
    "1. country\n",
    "2. agent\n",
    "3. company"
   ]
  },
  {
   "cell_type": "markdown",
   "metadata": {},
   "source": [
    "**Assumptions about impact of features:**\n",
    "* High:\n",
    "hotel, lead_time, arrival_date_year, arrival_date_month, stays_in_weekend_nights, stays_in_week_nights, is_repeated_guest, previous_cancellations, previous_bookings_not_canceled, reserved_room_type, assigned_room_type, deposit_type, days_in_waiting_list, customer_type\n",
    "\n",
    "* Medium:\n",
    "children, babies, distribution_channel, booking_changes, adr\n",
    "\n",
    "* Low:\n",
    "arrival_date_week_number, arrival_date_day_of_month,country, meal, adults, market_segment, agent, company, required_car_parking_spaces, total_of_special_requests, reservation_status, reservation_status_date"
   ]
  },
  {
   "cell_type": "markdown",
   "metadata": {},
   "source": [
    "**Assumptions about cancellation:**\n",
    "1. The type of hotel decides the cancelation rate with higher cancellations in city hotels as compared to resort hotels due to variety of facilities available in resort hotels.\n",
    "2. The earlier the booking made, higher the chances of cancellation.\n",
    "3. Customers who have bookings for longer durations have lesser chance of cancelling their booking. \n",
    "4. As more children or babies are involved in the booking, higher chances of cancellation.\n",
    "5. Old guest (is_repeated_guest=1) is less likely to cancel current booking.\n",
    "6. If there are high previous cancellations, possibility of cancellation of current booking is also high.\n",
    "7. If room assigned is not the same as reserved room type, customer might positively cancel the booking.\n",
    "8. Higher the number of changes made to the booking, lesser is the chance of cancellation due to the investment of time in curating the booking as per one's requirement.\n",
    "9. Bookings that are refundable or for which deposits were not made at the time of booking stand a high chance of cancelation.\n",
    "10. If the number of days in waiting list is significant, customer might make some other booking due to uncertainty of confirmation of current booking."
   ]
  },
  {
   "cell_type": "markdown",
   "metadata": {},
   "source": [
    "# EXPLORATORY DATA ANALYSIS"
   ]
  },
  {
   "cell_type": "markdown",
   "metadata": {},
   "source": [
    "Our main objective is `is_canceled` let's explore everything related to it."
   ]
  },
  {
   "cell_type": "code",
   "execution_count": 11,
   "metadata": {},
   "outputs": [
    {
     "data": {
      "image/png": "[encoded data removed]",
      "text/plain": [
       "<Figure size 1440x1008 with 20 Axes>"
      ]
     },
     "metadata": {
      "needs_background": "light"
     },
     "output_type": "display_data"
    }
   ],
   "source": [
    "df.hist(figsize=(20,14))\n",
    "plt.show()"
   ]
  },
  {
   "cell_type": "markdown",
   "metadata": {},
   "source": [
    "* highest positive correlations : lead_time followed by previous_cancellations\n",
    "* highest negative correlations : total_of_special_requests, required_car_parking_spaces"
   ]
  },
  {
   "cell_type": "code",
   "execution_count": 12,
   "metadata": {},
   "outputs": [
    {
     "name": "stderr",
     "output_type": "stream",
     "text": [
      "C:\\Users\\EraiYamuthan\\anaconda3\\lib\\site-packages\\seaborn\\_decorators.py:36: FutureWarning: Pass the following variable as a keyword arg: x. From version 0.12, the only valid positional argument will be `data`, and passing other arguments without an explicit keyword will result in an error or misinterpretation.\n",
      "  warnings.warn(\n"
     ]
    },
    {
     "data": {
      "text/plain": [
       "<AxesSubplot:xlabel='is_canceled', ylabel='count'>"
      ]
     },
     "execution_count": 12,
     "metadata": {},
     "output_type": "execute_result"
    },
    {
     "data": {
      "image/png": "[encoded data removed]",
      "text/plain": [
       "<Figure size 432x288 with 1 Axes>"
      ]
     },
     "metadata": {
      "needs_background": "light"
     },
     "output_type": "display_data"
    }
   ],
   "source": [
    "sns.countplot(df[\"is_canceled\"])"
   ]
  },
  {
   "cell_type": "markdown",
   "metadata": {},
   "source": [
    "* From the above graph we have found that cancelling rate is high.\n",
    "* 70000> not canceled Vs. 40000> canceled."
   ]
  },
  {
   "cell_type": "code",
   "execution_count": 13,
   "metadata": {},
   "outputs": [
    {
     "name": "stdout",
     "output_type": "stream",
     "text": [
      "Cancelations in resort hotel=  0.27763354967548676\n",
      "Cancelations in city hotel=  0.41726963317786464\n"
     ]
    },
    {
     "data": {
      "image/png": "[encoded data removed]",
      "text/plain": [
       "<Figure size 432x288 with 1 Axes>"
      ]
     },
     "metadata": {
      "needs_background": "light"
     },
     "output_type": "display_data"
    }
   ],
   "source": [
    "sns.countplot(data=df, x='hotel', hue='is_canceled')\n",
    "resort_canceled = df[(df['hotel']=='Resort Hotel') & (df['is_canceled']==1)]\n",
    "city_canceled = df[(df['hotel']=='City Hotel') & (df['is_canceled']==1)]\n",
    "print('Cancelations in resort hotel= ', (len(resort_canceled))/(len(df[df['hotel']=='Resort Hotel'])))\n",
    "print('Cancelations in city hotel= ', (len(city_canceled))/(len(df[df['hotel']=='City Hotel'])))"
   ]
  },
  {
   "cell_type": "markdown",
   "metadata": {},
   "source": [
    "Our 1st assumption, city hotels have higher cancelation rate than resort hotels, is valid."
   ]
  },
  {
   "cell_type": "code",
   "execution_count": 14,
   "metadata": {},
   "outputs": [
    {
     "data": {
      "text/plain": [
       "(0.0, 500.0)"
      ]
     },
     "execution_count": 14,
     "metadata": {},
     "output_type": "execute_result"
    },
    {
     "data": {
      "image/png": "[encoded data removed]",
      "text/plain": [
       "<Figure size 432x288 with 1 Axes>"
      ]
     },
     "metadata": {
      "needs_background": "light"
     },
     "output_type": "display_data"
    }
   ],
   "source": [
    "sns.histplot(df[\"lead_time\"])\n",
    "plt.xlim(0,500)"
   ]
  },
  {
   "cell_type": "markdown",
   "metadata": {},
   "source": [
    "From above the `lead_time` we're dealing with an exponential distrubition!"
   ]
  },
  {
   "cell_type": "code",
   "execution_count": 15,
   "metadata": {},
   "outputs": [
    {
     "data": {
      "text/plain": [
       "<seaborn.axisgrid.FacetGrid at 0x1e2233e5af0>"
      ]
     },
     "execution_count": 15,
     "metadata": {},
     "output_type": "execute_result"
    },
    {
     "data": {
      "image/png": "[encoded data removed]",
      "text/plain": [
       "<Figure size 440x216 with 2 Axes>"
      ]
     },
     "metadata": {
      "needs_background": "light"
     },
     "output_type": "display_data"
    }
   ],
   "source": [
    "grid = sns.FacetGrid(df, col='is_canceled')\n",
    "grid.map(plt.hist, 'lead_time', width=50)\n",
    "grid.add_legend()"
   ]
  },
  {
   "cell_type": "markdown",
   "metadata": {},
   "source": [
    "Maximum cancelations occur if the booking is made 60-70 days before the checkin date. Longer the lead_time, lower is the cancelation. This invalidates our 2nd assumption."
   ]
  },
  {
   "cell_type": "code",
   "execution_count": 16,
   "metadata": {},
   "outputs": [
    {
     "data": {
      "text/plain": [
       "<AxesSubplot:xlabel='is_canceled', ylabel='days_in_waiting_list'>"
      ]
     },
     "execution_count": 16,
     "metadata": {},
     "output_type": "execute_result"
    },
    {
     "data": {
      "image/png": "[encoded data removed]",
      "text/plain": [
       "<Figure size 432x288 with 1 Axes>"
      ]
     },
     "metadata": {
      "needs_background": "light"
     },
     "output_type": "display_data"
    }
   ],
   "source": [
    "sns.barplot(x = df[\"is_canceled\"], y = df[\"days_in_waiting_list\"])"
   ]
  },
  {
   "cell_type": "markdown",
   "metadata": {},
   "source": [
    "There is more chance of cancellation when the waiting list is high. No relation can be established between days_in_waiting_list and is_canceled. Therefore, we will take this feature for further analysis. Assumption 10 can be discarded."
   ]
  },
  {
   "cell_type": "code",
   "execution_count": 17,
   "metadata": {},
   "outputs": [
    {
     "data": {
      "text/plain": [
       "7.819750397855767"
      ]
     },
     "execution_count": 17,
     "metadata": {},
     "output_type": "execute_result"
    }
   ],
   "source": [
    "((len(df.loc[(df['children']!=0) | (df['babies']!=0)]))/(len(df))) * 100"
   ]
  },
  {
   "cell_type": "markdown",
   "metadata": {},
   "source": [
    "The number of customers having children or babies or both are only 8% of the total population. Therefore this information can be ignored as it will not play a significatn role in deciding whether to cancel the booking or not. Assumption 4 can be discarded."
   ]
  },
  {
   "cell_type": "code",
   "execution_count": 18,
   "metadata": {},
   "outputs": [
    {
     "name": "stdout",
     "output_type": "stream",
     "text": [
      "Cancelations among new guests=  0.3778508392455442\n",
      "Cancelations among old guests=  0.14488188976377953\n"
     ]
    },
    {
     "data": {
      "image/png": "[encoded data removed]",
      "text/plain": [
       "<Figure size 432x288 with 1 Axes>"
      ]
     },
     "metadata": {
      "needs_background": "light"
     },
     "output_type": "display_data"
    }
   ],
   "source": [
    "sns.countplot(data=df, x='is_repeated_guest', hue='is_canceled')\n",
    "new_guest = df[(df['is_repeated_guest']==0) & (df['is_canceled']==1)]\n",
    "old_guest = df[(df['is_repeated_guest']==1) & (df['is_canceled']==1)]\n",
    "print('Cancelations among new guests= ', (len(new_guest))/(len(df[df['is_repeated_guest']==0])))\n",
    "print('Cancelations among old guests= ', (len(old_guest))/(len(df[df['is_repeated_guest']==1])))"
   ]
  },
  {
   "cell_type": "markdown",
   "metadata": {},
   "source": [
    "As seen in the correlation table, the above graph bolsters the evidence that maximum customers are new comers and they are less likely to cancel their current booking.\n",
    "Old guests are less to cancel the booking (14%).Assumption 5 holds true."
   ]
  },
  {
   "cell_type": "code",
   "execution_count": 19,
   "metadata": {},
   "outputs": [
    {
     "data": {
      "text/plain": [
       "<AxesSubplot:xlabel='is_canceled', ylabel='previous_cancellations'>"
      ]
     },
     "execution_count": 19,
     "metadata": {},
     "output_type": "execute_result"
    },
    {
     "data": {
      "image/png": "[encoded data removed]",
      "text/plain": [
       "<Figure size 432x288 with 1 Axes>"
      ]
     },
     "metadata": {
      "needs_background": "light"
     },
     "output_type": "display_data"
    }
   ],
   "source": [
    "sns.barplot(x = df[\"is_canceled\"], y = df[\"previous_cancellations\"], hue = df[\"is_repeated_guest\"])"
   ]
  },
  {
   "cell_type": "markdown",
   "metadata": {},
   "source": [
    "* Customers with the history of cancellation tend to cancel more often.\n",
    "* Interestingly repeated guests tend to cancel more!"
   ]
  },
  {
   "cell_type": "code",
   "execution_count": 20,
   "metadata": {},
   "outputs": [
    {
     "data": {
      "text/plain": [
       "<AxesSubplot:xlabel='previous_cancellations', ylabel='count'>"
      ]
     },
     "execution_count": 20,
     "metadata": {},
     "output_type": "execute_result"
    },
    {
     "data": {
      "image/png": "[encoded data removed]",
      "text/plain": [
       "<Figure size 432x288 with 1 Axes>"
      ]
     },
     "metadata": {
      "needs_background": "light"
     },
     "output_type": "display_data"
    }
   ],
   "source": [
    "sns.countplot(data=df, x='previous_cancellations', hue='is_canceled')"
   ]
  },
  {
   "cell_type": "markdown",
   "metadata": {},
   "source": [
    "Maximum customers have 0 previous cancellations. They are less likely to cancel the current booking. However, customers who have cancelled once earlier are more likely to cancel the current booking. This also matches with the positive correlation between previous_cancellations and is_cancelled and supports Assumption 6."
   ]
  },
  {
   "cell_type": "code",
   "execution_count": 21,
   "metadata": {},
   "outputs": [
    {
     "data": {
      "text/plain": [
       "<AxesSubplot:xlabel='customer_type', ylabel='is_canceled'>"
      ]
     },
     "execution_count": 21,
     "metadata": {},
     "output_type": "execute_result"
    },
    {
     "data": {
      "image/png": "[encoded data removed]",
      "text/plain": [
       "<Figure size 432x288 with 1 Axes>"
      ]
     },
     "metadata": {
      "needs_background": "light"
     },
     "output_type": "display_data"
    }
   ],
   "source": [
    "sns.barplot(x = df[\"customer_type\"], y = df[\"is_canceled\"])"
   ]
  },
  {
   "cell_type": "code",
   "execution_count": 22,
   "metadata": {},
   "outputs": [
    {
     "data": {
      "text/plain": [
       "0    94.623584\n",
       "1     5.376416\n",
       "Name: is_canceled, dtype: float64"
      ]
     },
     "execution_count": 22,
     "metadata": {},
     "output_type": "execute_result"
    }
   ],
   "source": [
    "temp = df.loc[df['reserved_room_type']!=df['assigned_room_type']]\n",
    "temp['is_canceled'].value_counts(normalize=True)*100"
   ]
  },
  {
   "cell_type": "markdown",
   "metadata": {},
   "source": [
    "Assumption 7 that there are more cancellations when assigned room type is different from reserved room type is not valid. There are only 5% cancellations in such a case."
   ]
  },
  {
   "cell_type": "code",
   "execution_count": 23,
   "metadata": {},
   "outputs": [
    {
     "data": {
      "text/plain": [
       "<AxesSubplot:xlabel='booking_changes', ylabel='is_canceled'>"
      ]
     },
     "execution_count": 23,
     "metadata": {},
     "output_type": "execute_result"
    },
    {
     "data": {
      "image/png": "[encoded data removed]",
      "text/plain": [
       "<Figure size 432x288 with 1 Axes>"
      ]
     },
     "metadata": {
      "needs_background": "light"
     },
     "output_type": "display_data"
    }
   ],
   "source": [
    "sns.pointplot(data=df, x='booking_changes', y='is_canceled')"
   ]
  },
  {
   "cell_type": "markdown",
   "metadata": {},
   "source": [
    "Assumption 8 about the bookings does not hold as there is no trend in it's impact on the cancellation of bookings."
   ]
  },
  {
   "cell_type": "code",
   "execution_count": 24,
   "metadata": {},
   "outputs": [
    {
     "data": {
      "text/plain": [
       "<AxesSubplot:xlabel='deposit_type', ylabel='is_canceled'>"
      ]
     },
     "execution_count": 24,
     "metadata": {},
     "output_type": "execute_result"
    },
    {
     "data": {
      "image/png": "[encoded data removed]",
      "text/plain": [
       "<Figure size 432x288 with 1 Axes>"
      ]
     },
     "metadata": {
      "needs_background": "light"
     },
     "output_type": "display_data"
    }
   ],
   "source": [
    "sns.barplot(y = df[\"is_canceled\"], x = df[\"deposit_type\"])"
   ]
  },
  {
   "cell_type": "markdown",
   "metadata": {},
   "source": [
    "* Non Refundable payments tends to cancel more.\n",
    "* No deposit and Refundable type are more or less the same.\n",
    "Contrary to assumption 9"
   ]
  },
  {
   "cell_type": "code",
   "execution_count": 25,
   "metadata": {},
   "outputs": [
    {
     "name": "stderr",
     "output_type": "stream",
     "text": [
      "C:\\Users\\EraiYamuthan\\anaconda3\\lib\\site-packages\\seaborn\\_decorators.py:36: FutureWarning: Pass the following variable as a keyword arg: x. From version 0.12, the only valid positional argument will be `data`, and passing other arguments without an explicit keyword will result in an error or misinterpretation.\n",
      "  warnings.warn(\n",
      "C:\\Users\\EraiYamuthan\\anaconda3\\lib\\site-packages\\seaborn\\_decorators.py:36: FutureWarning: Pass the following variable as a keyword arg: x. From version 0.12, the only valid positional argument will be `data`, and passing other arguments without an explicit keyword will result in an error or misinterpretation.\n",
      "  warnings.warn(\n"
     ]
    },
    {
     "data": {
      "text/plain": [
       "<AxesSubplot:xlabel='reservation_status_date', ylabel='count'>"
      ]
     },
     "execution_count": 25,
     "metadata": {},
     "output_type": "execute_result"
    },
    {
     "data": {
      "image/png": "[encoded data removed]",
      "text/plain": [
       "<Figure size 432x288 with 2 Axes>"
      ]
     },
     "metadata": {
      "needs_background": "light"
     },
     "output_type": "display_data"
    }
   ],
   "source": [
    "month = pd.to_datetime(df[\"reservation_status_date\"]).dt.month\n",
    "year = pd.to_datetime(df[\"reservation_status_date\"]).dt.year\n",
    "fig, ax =plt.subplots(2,1)\n",
    "sns.countplot(month, ax = ax[0])\n",
    "sns.countplot(year, ax = ax[1])"
   ]
  },
  {
   "cell_type": "markdown",
   "metadata": {},
   "source": [
    "Extracted some useful insights from `reservation_status_date` and then created `month` and `year` lists.\n",
    "With these lists, we can conclude that reservation status date plays a huge role whether a guest cancels or not.\n",
    "We can see as we get close to the end of the year, cancelations tend to decrease after a sudden rise in July. (which could be an account for the summer travels)\n",
    "Likewise, cancelation varies with year."
   ]
  },
  {
   "cell_type": "code",
   "execution_count": 26,
   "metadata": {},
   "outputs": [
    {
     "data": {
      "text/plain": [
       "<seaborn.axisgrid.FacetGrid at 0x1e220db4580>"
      ]
     },
     "execution_count": 26,
     "metadata": {},
     "output_type": "execute_result"
    },
    {
     "data": {
      "image/png": "[encoded data removed]",
      "text/plain": [
       "<Figure size 426.125x360 with 1 Axes>"
      ]
     },
     "metadata": {
      "needs_background": "light"
     },
     "output_type": "display_data"
    }
   ],
   "source": [
    "chart = sns.catplot(data=df, x='arrival_date_month', hue='is_canceled', kind='count')\n",
    "chart.set_xticklabels(rotation=65, horizontalalignment='right')"
   ]
  },
  {
   "cell_type": "markdown",
   "metadata": {},
   "source": [
    "Maximum bookings occur in 2016 in the months of July and August."
   ]
  },
  {
   "cell_type": "code",
   "execution_count": 27,
   "metadata": {},
   "outputs": [
    {
     "name": "stderr",
     "output_type": "stream",
     "text": [
      "C:\\Users\\EraiYamuthan\\anaconda3\\lib\\site-packages\\seaborn\\axisgrid.py:645: UserWarning: Using the countplot function without specifying `order` is likely to produce an incorrect plot.\n",
      "  warnings.warn(warning)\n"
     ]
    },
    {
     "data": {
      "text/plain": [
       "<seaborn.axisgrid.FacetGrid at 0x1e222bd6c10>"
      ]
     },
     "execution_count": 27,
     "metadata": {},
     "output_type": "execute_result"
    },
    {
     "data": {
      "image/png": "[encoded data removed]",
      "text/plain": [
       "<Figure size 648x216 with 3 Axes>"
      ]
     },
     "metadata": {
      "needs_background": "light"
     },
     "output_type": "display_data"
    }
   ],
   "source": [
    "grid = sns.FacetGrid(df, col='arrival_date_year')\n",
    "grid.map(sns.countplot, 'hotel')"
   ]
  },
  {
   "cell_type": "markdown",
   "metadata": {},
   "source": [
    "In all three years city hotels saw more bookings than resort hotels."
   ]
  },
  {
   "cell_type": "code",
   "execution_count": 28,
   "metadata": {},
   "outputs": [
    {
     "name": "stderr",
     "output_type": "stream",
     "text": [
      "C:\\Users\\EraiYamuthan\\anaconda3\\lib\\site-packages\\seaborn\\axisgrid.py:645: UserWarning: Using the countplot function without specifying `order` is likely to produce an incorrect plot.\n",
      "  warnings.warn(warning)\n"
     ]
    },
    {
     "data": {
      "text/plain": [
       "<seaborn.axisgrid.FacetGrid at 0x1e223a49f40>"
      ]
     },
     "execution_count": 28,
     "metadata": {},
     "output_type": "execute_result"
    },
    {
     "data": {
      "image/png": "[encoded data removed]",
      "text/plain": [
       "<Figure size 864x216 with 4 Axes>"
      ]
     },
     "metadata": {
      "needs_background": "light"
     },
     "output_type": "display_data"
    }
   ],
   "source": [
    "df['meal'].nunique(), df['customer_type'].nunique()\n",
    "grid = sns.FacetGrid(df, col='customer_type')\n",
    "grid.map(sns.countplot, 'meal')"
   ]
  },
  {
   "cell_type": "markdown",
   "metadata": {},
   "source": [
    "All kinds of customers prefer BB type meals majorly."
   ]
  },
  {
   "cell_type": "code",
   "execution_count": 29,
   "metadata": {},
   "outputs": [
    {
     "data": {
      "text/html": [
       "<div>\n",
       "<style scoped>\n",
       "    .dataframe tbody tr th:only-of-type {\n",
       "        vertical-align: middle;\n",
       "    }\n",
       "\n",
       "    .dataframe tbody tr th {\n",
       "        vertical-align: top;\n",
       "    }\n",
       "\n",
       "    .dataframe thead th {\n",
       "        text-align: right;\n",
       "    }\n",
       "</style>\n",
       "<table border=\"1\" class=\"dataframe\">\n",
       "  <thead>\n",
       "    <tr style=\"text-align: right;\">\n",
       "      <th>hotel</th>\n",
       "      <th>City Hotel</th>\n",
       "      <th>Resort Hotel</th>\n",
       "    </tr>\n",
       "  </thead>\n",
       "  <tbody>\n",
       "    <tr>\n",
       "      <th>country</th>\n",
       "      <td>PRT</td>\n",
       "      <td>PRT</td>\n",
       "    </tr>\n",
       "  </tbody>\n",
       "</table>\n",
       "</div>"
      ],
      "text/plain": [
       "hotel   City Hotel Resort Hotel\n",
       "country        PRT          PRT"
      ]
     },
     "execution_count": 29,
     "metadata": {},
     "output_type": "execute_result"
    }
   ],
   "source": [
    "df.pivot_table(columns='hotel', values='country', aggfunc=lambda x:x.mode())"
   ]
  },
  {
   "cell_type": "markdown",
   "metadata": {},
   "source": [
    "People from country with ISO code 'PRT' made the most number of bookings in both types of hotels because the hotels are present in PRT itself."
   ]
  },
  {
   "cell_type": "code",
   "execution_count": 30,
   "metadata": {},
   "outputs": [
    {
     "data": {
      "text/plain": [
       "<matplotlib.legend.Legend at 0x1e222c6e310>"
      ]
     },
     "execution_count": 30,
     "metadata": {},
     "output_type": "execute_result"
    },
    {
     "data": {
      "image/png": "[encoded data removed]",
      "text/plain": [
       "<Figure size 432x288 with 1 Axes>"
      ]
     },
     "metadata": {
      "needs_background": "light"
     },
     "output_type": "display_data"
    }
   ],
   "source": [
    "g = sns.countplot(data=df, x='hotel', hue='reserved_room_type')\n",
    "g.legend(loc='center left', bbox_to_anchor=(1.25, 0.5), ncol=1)"
   ]
  },
  {
   "cell_type": "markdown",
   "metadata": {},
   "source": [
    "* Resort hotels room preference : A, D, E\n",
    "*  City hotels room preference : A, D, F"
   ]
  },
  {
   "cell_type": "code",
   "execution_count": 31,
   "metadata": {},
   "outputs": [
    {
     "name": "stdout",
     "output_type": "stream",
     "text": [
      "TABLE 1\n",
      "hotel         customer_type  \n",
      "City Hotel    Contract            2300\n",
      "              Group                293\n",
      "              Transient          59404\n",
      "              Transient-Party    17333\n",
      "Resort Hotel  Contract            1776\n",
      "              Group                284\n",
      "              Transient          30209\n",
      "              Transient-Party     7791\n",
      "dtype: int64\n"
     ]
    }
   ],
   "source": [
    "print(\"TABLE 1\")\n",
    "print(df.groupby(['hotel', 'customer_type']).size())"
   ]
  },
  {
   "cell_type": "markdown",
   "metadata": {},
   "source": [
    "For each kind of hotel, Transient type of customers are the highest followed by Transient Party. Group bookings are the least."
   ]
  },
  {
   "cell_type": "code",
   "execution_count": 32,
   "metadata": {},
   "outputs": [
    {
     "name": "stdout",
     "output_type": "stream",
     "text": [
      "customer_type    deposit_type\n",
      "Contract         No Deposit       3530\n",
      "                 Non Refund        544\n",
      "                 Refundable          2\n",
      "Group            No Deposit        569\n",
      "                 Refundable          8\n",
      "Transient        No Deposit      76684\n",
      "                 Non Refund      12909\n",
      "                 Refundable         20\n",
      "Transient-Party  No Deposit      23858\n",
      "                 Non Refund       1134\n",
      "                 Refundable        132\n",
      "dtype: int64\n"
     ]
    }
   ],
   "source": [
    "print(df.groupby(['customer_type', 'deposit_type']).size())"
   ]
  },
  {
   "cell_type": "markdown",
   "metadata": {},
   "source": [
    "Each category of customers book hotels without deposit. Surprisingly, between refundable and non-refundable type, higher number of people book hotels that are non-refundable."
   ]
  },
  {
   "cell_type": "code",
   "execution_count": 33,
   "metadata": {},
   "outputs": [
    {
     "name": "stdout",
     "output_type": "stream",
     "text": [
      "customer_type    distribution_channel\n",
      "Contract         Corporate                  27\n",
      "                 Direct                     19\n",
      "                 TA/TO                    4030\n",
      "Group            Corporate                  31\n",
      "                 Direct                    116\n",
      "                 TA/TO                     430\n",
      "Transient        Corporate                4157\n",
      "                 Direct                  12343\n",
      "                 GDS                       193\n",
      "                 TA/TO                   72919\n",
      "                 Undefined                   1\n",
      "Transient-Party  Corporate                2462\n",
      "                 Direct                   2167\n",
      "                 TA/TO                   20491\n",
      "                 Undefined                   4\n",
      "dtype: int64\n",
      "------------------------------------------------------------\n",
      "customer_type    market_segment\n",
      "Contract         Complementary         2\n",
      "                 Corporate            22\n",
      "                 Direct               14\n",
      "                 Groups              735\n",
      "                 Offline TA/TO      1817\n",
      "                 Online TA          1486\n",
      "Group            Aviation              2\n",
      "                 Complementary         6\n",
      "                 Corporate            29\n",
      "                 Direct              134\n",
      "                 Groups               16\n",
      "                 Offline TA/TO       211\n",
      "                 Online TA           179\n",
      "Transient        Aviation            218\n",
      "                 Complementary       703\n",
      "                 Corporate          3576\n",
      "                 Direct            11336\n",
      "                 Groups             8427\n",
      "                 Offline TA/TO     14054\n",
      "                 Online TA         51299\n",
      "Transient-Party  Aviation             17\n",
      "                 Complementary        32\n",
      "                 Corporate          1668\n",
      "                 Direct             1122\n",
      "                 Groups            10633\n",
      "                 Offline TA/TO      8137\n",
      "                 Online TA          3513\n",
      "                 Undefined             2\n",
      "dtype: int64\n"
     ]
    }
   ],
   "source": [
    "print(df.groupby(['customer_type', 'distribution_channel']).size())\n",
    "print(\"-\"*60)\n",
    "print(df.groupby(['customer_type', 'market_segment']).size())"
   ]
  },
  {
   "cell_type": "code",
   "execution_count": 34,
   "metadata": {},
   "outputs": [
    {
     "name": "stdout",
     "output_type": "stream",
     "text": [
      "hotel         distribution_channel\n",
      "City Hotel    Corporate                3408\n",
      "              Direct                   6780\n",
      "              GDS                       193\n",
      "              TA/TO                   68945\n",
      "              Undefined                   4\n",
      "Resort Hotel  Corporate                3269\n",
      "              Direct                   7865\n",
      "              TA/TO                   28925\n",
      "              Undefined                   1\n",
      "dtype: int64\n",
      "----------------------------------------\n",
      "hotel         market_segment\n",
      "City Hotel    Aviation            237\n",
      "              Complementary       542\n",
      "              Corporate          2986\n",
      "              Direct             6093\n",
      "              Groups            13975\n",
      "              Offline TA/TO     16747\n",
      "              Online TA         38748\n",
      "              Undefined             2\n",
      "Resort Hotel  Complementary       201\n",
      "              Corporate          2309\n",
      "              Direct             6513\n",
      "              Groups             5836\n",
      "              Offline TA/TO      7472\n",
      "              Online TA         17729\n",
      "dtype: int64\n"
     ]
    }
   ],
   "source": [
    "print(df.groupby(['hotel', 'distribution_channel']).size())\n",
    "print(\"-\"*40)\n",
    "print(df.groupby(['hotel', 'market_segment']).size())"
   ]
  },
  {
   "cell_type": "markdown",
   "metadata": {},
   "source": [
    "Combining table 1 and above table, we see the relation between freqeunt customer types at each hotel and their mode of booking. This information can be used by the hotel to focus on customised publicity stratgies. Similarly, the market segments can be analysed for a more customer centric approach. Hotel type with distribution channel and market segment can also be analysed. "
   ]
  },
  {
   "cell_type": "code",
   "execution_count": 35,
   "metadata": {},
   "outputs": [
    {
     "data": {
      "text/plain": [
       "customer_type    reservation_status\n",
       "Contract         Canceled              30.323847\n",
       "                 Check-Out             69.038273\n",
       "                 No-Show                0.637880\n",
       "Group            Canceled               9.532062\n",
       "                 Check-Out             89.774697\n",
       "                 No-Show                0.693241\n",
       "Transient        Canceled              39.678395\n",
       "                 Check-Out             59.253680\n",
       "                 No-Show                1.067925\n",
       "Transient-Party  Canceled              24.554211\n",
       "                 Check-Out             74.570132\n",
       "                 No-Show                0.875657\n",
       "dtype: float64"
      ]
     },
     "execution_count": 35,
     "metadata": {},
     "output_type": "execute_result"
    }
   ],
   "source": [
    "group = df.groupby(['customer_type', 'reservation_status']).size()\n",
    "group_pcts = group.groupby(level=0).apply(lambda x:100 * x / float(x.sum()))\n",
    "group_pcts"
   ]
  },
  {
   "cell_type": "code",
   "execution_count": 36,
   "metadata": {},
   "outputs": [
    {
     "data": {
      "text/html": [
       "<div>\n",
       "<style scoped>\n",
       "    .dataframe tbody tr th:only-of-type {\n",
       "        vertical-align: middle;\n",
       "    }\n",
       "\n",
       "    .dataframe tbody tr th {\n",
       "        vertical-align: top;\n",
       "    }\n",
       "\n",
       "    .dataframe thead th {\n",
       "        text-align: right;\n",
       "    }\n",
       "</style>\n",
       "<table border=\"1\" class=\"dataframe\">\n",
       "  <thead>\n",
       "    <tr style=\"text-align: right;\">\n",
       "      <th>hotel</th>\n",
       "      <th>City Hotel</th>\n",
       "      <th>Resort Hotel</th>\n",
       "    </tr>\n",
       "  </thead>\n",
       "  <tbody>\n",
       "    <tr>\n",
       "      <th>stays_in_week_nights</th>\n",
       "      <td>173174</td>\n",
       "      <td>125337</td>\n",
       "    </tr>\n",
       "    <tr>\n",
       "      <th>stays_in_weekend_nights</th>\n",
       "      <td>63082</td>\n",
       "      <td>47664</td>\n",
       "    </tr>\n",
       "  </tbody>\n",
       "</table>\n",
       "</div>"
      ],
      "text/plain": [
       "hotel                    City Hotel  Resort Hotel\n",
       "stays_in_week_nights         173174        125337\n",
       "stays_in_weekend_nights       63082         47664"
      ]
     },
     "execution_count": 36,
     "metadata": {},
     "output_type": "execute_result"
    }
   ],
   "source": [
    "df.pivot_table(columns='hotel', values=['stays_in_weekend_nights', 'stays_in_week_nights'], aggfunc=lambda x:x.sum())"
   ]
  },
  {
   "cell_type": "code",
   "execution_count": 37,
   "metadata": {},
   "outputs": [
    {
     "data": {
      "text/html": [
       "<div>\n",
       "<style scoped>\n",
       "    .dataframe tbody tr th:only-of-type {\n",
       "        vertical-align: middle;\n",
       "    }\n",
       "\n",
       "    .dataframe tbody tr th {\n",
       "        vertical-align: top;\n",
       "    }\n",
       "\n",
       "    .dataframe thead th {\n",
       "        text-align: right;\n",
       "    }\n",
       "</style>\n",
       "<table border=\"1\" class=\"dataframe\">\n",
       "  <thead>\n",
       "    <tr style=\"text-align: right;\">\n",
       "      <th>hotel</th>\n",
       "      <th>City Hotel</th>\n",
       "      <th>Resort Hotel</th>\n",
       "    </tr>\n",
       "  </thead>\n",
       "  <tbody>\n",
       "    <tr>\n",
       "      <th>total_of_special_requests</th>\n",
       "      <td>43387</td>\n",
       "      <td>24828</td>\n",
       "    </tr>\n",
       "  </tbody>\n",
       "</table>\n",
       "</div>"
      ],
      "text/plain": [
       "hotel                      City Hotel  Resort Hotel\n",
       "total_of_special_requests       43387         24828"
      ]
     },
     "execution_count": 37,
     "metadata": {},
     "output_type": "execute_result"
    }
   ],
   "source": [
    "df.pivot_table(columns='hotel', values='total_of_special_requests', aggfunc=lambda x:x.sum())"
   ]
  },
  {
   "cell_type": "code",
   "execution_count": 38,
   "metadata": {},
   "outputs": [
    {
     "data": {
      "text/plain": [
       "PRT    40.865587\n",
       "GBR    10.200838\n",
       "FRA     8.759314\n",
       "ESP     7.205934\n",
       "DEU     6.128576\n",
       "         ...    \n",
       "HND     0.000841\n",
       "GUY     0.000841\n",
       "DJI     0.000841\n",
       "BFA     0.000841\n",
       "SDN     0.000841\n",
       "Name: country, Length: 177, dtype: float64"
      ]
     },
     "execution_count": 38,
     "metadata": {},
     "output_type": "execute_result"
    }
   ],
   "source": [
    "df['country'].value_counts(normalize=True)*100"
   ]
  },
  {
   "cell_type": "code",
   "execution_count": 39,
   "metadata": {},
   "outputs": [
    {
     "name": "stdout",
     "output_type": "stream",
     "text": [
      "Percentage cancelation=  0.37041628277075134\n"
     ]
    },
    {
     "data": {
      "text/plain": [
       "Check-Out    62.958372\n",
       "Canceled     36.030656\n",
       "No-Show       1.010972\n",
       "Name: reservation_status, dtype: float64"
      ]
     },
     "execution_count": 39,
     "metadata": {},
     "output_type": "execute_result"
    }
   ],
   "source": [
    "is_can = len(df[df['is_canceled']==1])\n",
    "print(\"Percentage cancelation= \", is_can/len(df))\n",
    "df['reservation_status'].value_counts(normalize=True)*100"
   ]
  },
  {
   "cell_type": "code",
   "execution_count": 40,
   "metadata": {},
   "outputs": [
    {
     "name": "stderr",
     "output_type": "stream",
     "text": [
      "C:\\Users\\EraiYamuthan\\anaconda3\\lib\\site-packages\\seaborn\\axisgrid.py:645: UserWarning: Using the countplot function without specifying `order` is likely to produce an incorrect plot.\n",
      "  warnings.warn(warning)\n"
     ]
    },
    {
     "data": {
      "text/plain": [
       "<seaborn.axisgrid.FacetGrid at 0x1e222ccc130>"
      ]
     },
     "execution_count": 40,
     "metadata": {},
     "output_type": "execute_result"
    },
    {
     "data": {
      "image/png": "[encoded data removed]",
      "text/plain": [
       "<Figure size 1080x216 with 5 Axes>"
      ]
     },
     "metadata": {
      "needs_background": "light"
     },
     "output_type": "display_data"
    }
   ],
   "source": [
    "temp = df.loc[(df['country']=='PRT') | (df['country']=='GBR') | (df['country']=='FRA') | (df['country']=='ESP') | (df['country']=='DEU')]\n",
    "grid = sns.FacetGrid(temp, col='country')\n",
    "grid.map(sns.countplot, 'distribution_channel')"
   ]
  },
  {
   "cell_type": "markdown",
   "metadata": {},
   "source": [
    "Using this information hotels can implement models of publicity for getting more bookings in the top 5 countries from where most of their customers hail."
   ]
  },
  {
   "cell_type": "code",
   "execution_count": 41,
   "metadata": {},
   "outputs": [
    {
     "data": {
      "text/plain": [
       "<AxesSubplot:xlabel='customer_type', ylabel='total_of_special_requests'>"
      ]
     },
     "execution_count": 41,
     "metadata": {},
     "output_type": "execute_result"
    },
    {
     "data": {
      "image/png": "[encoded data removed]",
      "text/plain": [
       "<Figure size 432x288 with 1 Axes>"
      ]
     },
     "metadata": {
      "needs_background": "light"
     },
     "output_type": "display_data"
    }
   ],
   "source": [
    "sns.barplot(data=df, x='customer_type', y='total_of_special_requests', ci=None)"
   ]
  },
  {
   "cell_type": "code",
   "execution_count": 42,
   "metadata": {},
   "outputs": [
    {
     "data": {
      "text/plain": [
       "<AxesSubplot:xlabel='distribution_channel', ylabel='lead_time'>"
      ]
     },
     "execution_count": 42,
     "metadata": {},
     "output_type": "execute_result"
    },
    {
     "data": {
      "image/png": "[encoded data removed]",
      "text/plain": [
       "<Figure size 432x288 with 1 Axes>"
      ]
     },
     "metadata": {
      "needs_background": "light"
     },
     "output_type": "display_data"
    }
   ],
   "source": [
    "sns.boxplot(data=df, x='distribution_channel', y='lead_time')"
   ]
  },
  {
   "cell_type": "markdown",
   "metadata": {},
   "source": [
    "# FEATURE ENGINEERING"
   ]
  },
  {
   "cell_type": "code",
   "execution_count": 43,
   "metadata": {},
   "outputs": [
    {
     "data": {
      "text/plain": [
       "0         7\n",
       "1         7\n",
       "2         7\n",
       "3         7\n",
       "4         7\n",
       "         ..\n",
       "119385    8\n",
       "119386    8\n",
       "119387    8\n",
       "119388    8\n",
       "119389    8\n",
       "Name: arrival_date_month, Length: 119390, dtype: int32"
      ]
     },
     "execution_count": 43,
     "metadata": {},
     "output_type": "execute_result"
    }
   ],
   "source": [
    "month_map = {'January':'01', 'February':'02', 'March':'03', 'April':'04', 'May':'05', 'June':'06', 'July':'07', 'August':'08', 'September':'09', 'October':'10', 'November':'11', 'December':'12'}\n",
    "df.arrival_date_month = df.arrival_date_month.map(month_map).astype(int)\n",
    "df.arrival_date_month"
   ]
  },
  {
   "cell_type": "code",
   "execution_count": 44,
   "metadata": {},
   "outputs": [],
   "source": [
    "df['arrival_date'] = df['arrival_date_year'].astype(str)+'-'+df['arrival_date_month'].astype(str)+'-'+df['arrival_date_day_of_month'].astype(str)"
   ]
  },
  {
   "cell_type": "code",
   "execution_count": 45,
   "metadata": {},
   "outputs": [
    {
     "data": {
      "text/plain": [
       "0          2015-7-1\n",
       "1          2015-7-1\n",
       "2          2015-7-1\n",
       "3          2015-7-1\n",
       "4          2015-7-1\n",
       "            ...    \n",
       "119385    2017-8-30\n",
       "119386    2017-8-31\n",
       "119387    2017-8-31\n",
       "119388    2017-8-31\n",
       "119389    2017-8-29\n",
       "Name: arrival_date, Length: 119390, dtype: object"
      ]
     },
     "execution_count": 45,
     "metadata": {},
     "output_type": "execute_result"
    }
   ],
   "source": [
    "df['arrival_date']"
   ]
  },
  {
   "cell_type": "code",
   "execution_count": 46,
   "metadata": {},
   "outputs": [],
   "source": [
    "def roomChange(row):\n",
    "    if row['assigned_room_type'] == row['reserved_room_type']:\n",
    "        return False\n",
    "    else:\n",
    "        return True\n",
    "\n",
    "df['change_in_room'] = df.apply(roomChange, axis=1)"
   ]
  },
  {
   "cell_type": "code",
   "execution_count": 47,
   "metadata": {},
   "outputs": [],
   "source": [
    "df['children'] = df['children'].fillna(0)\n",
    "df['offspring'] = (df['children'] + df['babies']).astype(int)"
   ]
  },
  {
   "cell_type": "code",
   "execution_count": 48,
   "metadata": {},
   "outputs": [
    {
     "data": {
      "text/plain": [
       "0         0.0\n",
       "1         0.0\n",
       "2         0.0\n",
       "3         0.0\n",
       "4         0.0\n",
       "         ... \n",
       "119385    0.0\n",
       "119386    0.0\n",
       "119387    0.0\n",
       "119388    0.0\n",
       "119389    0.0\n",
       "Name: children, Length: 119390, dtype: float64"
      ]
     },
     "execution_count": 48,
     "metadata": {},
     "output_type": "execute_result"
    }
   ],
   "source": [
    "df['children']"
   ]
  },
  {
   "cell_type": "code",
   "execution_count": 49,
   "metadata": {},
   "outputs": [
    {
     "data": {
      "text/plain": [
       "0         0\n",
       "1         0\n",
       "2         0\n",
       "3         0\n",
       "4         0\n",
       "         ..\n",
       "119385    0\n",
       "119386    0\n",
       "119387    0\n",
       "119388    0\n",
       "119389    0\n",
       "Name: offspring, Length: 119390, dtype: int32"
      ]
     },
     "execution_count": 49,
     "metadata": {},
     "output_type": "execute_result"
    }
   ],
   "source": [
    "df['offspring']"
   ]
  },
  {
   "cell_type": "code",
   "execution_count": 50,
   "metadata": {},
   "outputs": [
    {
     "data": {
      "text/plain": [
       "0         0\n",
       "1         0\n",
       "2         0\n",
       "3         0\n",
       "4         0\n",
       "         ..\n",
       "119385    0\n",
       "119386    0\n",
       "119387    0\n",
       "119388    0\n",
       "119389    0\n",
       "Name: total_bookings, Length: 119390, dtype: int64"
      ]
     },
     "execution_count": 50,
     "metadata": {},
     "output_type": "execute_result"
    }
   ],
   "source": [
    "df['total_bookings'] = df['previous_cancellations'] + df['previous_bookings_not_canceled']\n",
    "df['total_bookings']"
   ]
  },
  {
   "cell_type": "code",
   "execution_count": 51,
   "metadata": {},
   "outputs": [],
   "source": [
    "df['country'].fillna(df['country'].mode()[0], inplace=True)\n",
    "df['agent'].fillna(df['agent'].mode()[0], inplace=True)\n",
    "df['company'].fillna(df['company'].mode()[0], inplace=True)"
   ]
  },
  {
   "cell_type": "code",
   "execution_count": 52,
   "metadata": {},
   "outputs": [],
   "source": [
    "for i in range(len(df)):\n",
    "    if df.loc[i, 'country'] == 'PRT':\n",
    "        df.at[i, 'country'] = 1\n",
    "    elif df.loc[i, 'country'] == 'GBR':\n",
    "        df.at[i, 'country'] = 2\n",
    "    else:\n",
    "        df.at[i, 'country'] = 0"
   ]
  },
  {
   "cell_type": "code",
   "execution_count": 53,
   "metadata": {},
   "outputs": [
    {
     "data": {
      "text/plain": [
       "0        2015-07-01\n",
       "1        2015-07-01\n",
       "2        2015-07-01\n",
       "3        2015-07-01\n",
       "4        2015-07-01\n",
       "            ...    \n",
       "119385   2017-08-30\n",
       "119386   2017-08-31\n",
       "119387   2017-08-31\n",
       "119388   2017-08-31\n",
       "119389   2017-08-29\n",
       "Name: arrival_date, Length: 119390, dtype: datetime64[ns]"
      ]
     },
     "execution_count": 53,
     "metadata": {},
     "output_type": "execute_result"
    }
   ],
   "source": [
    "df['reservation_status_date'] = pd.to_datetime(df['reservation_status_date'])\n",
    "df['arrival_date'] = pd.to_datetime(df['arrival_date'])\n",
    "df['arrival_date']"
   ]
  },
  {
   "cell_type": "code",
   "execution_count": 54,
   "metadata": {},
   "outputs": [],
   "source": [
    "df['stay_duration'] = df['reservation_status_date'] - df['arrival_date']\n",
    "df['stay_duration'] = df['stay_duration'] / np.timedelta64(1, 'D')\n",
    "df['stay_duration'] = df['stay_duration'].astype(int)"
   ]
  },
  {
   "cell_type": "code",
   "execution_count": 55,
   "metadata": {},
   "outputs": [],
   "source": [
    "for i in range(len(df)):\n",
    "    if df.loc[i, 'stay_duration']<0:\n",
    "        df.at[i, 'stay_duration'] = -1"
   ]
  },
  {
   "cell_type": "code",
   "execution_count": 56,
   "metadata": {},
   "outputs": [
    {
     "data": {
      "text/plain": [
       "is_canceled                       1.000000\n",
       "stay_duration                     0.715458\n",
       "lead_time                         0.293123\n",
       "change_in_room                    0.247770\n",
       "total_of_special_requests         0.234658\n",
       "required_car_parking_spaces       0.195498\n",
       "booking_changes                   0.144381\n",
       "previous_cancellations            0.110133\n",
       "is_repeated_guest                 0.084793\n",
       "company                           0.076124\n",
       "adults                            0.060017\n",
       "previous_bookings_not_canceled    0.057358\n",
       "days_in_waiting_list              0.054186\n",
       "agent                             0.049857\n",
       "adr                               0.047557\n",
       "babies                            0.032491\n",
       "stays_in_week_nights              0.024765\n",
       "arrival_date_year                 0.016660\n",
       "arrival_date_month                0.011022\n",
       "arrival_date_week_number          0.008148\n",
       "arrival_date_day_of_month         0.006130\n",
       "children                          0.005036\n",
       "total_bookings                    0.003884\n",
       "offspring                         0.002808\n",
       "stays_in_weekend_nights           0.001791\n",
       "Name: is_canceled, dtype: float64"
      ]
     },
     "execution_count": 56,
     "metadata": {},
     "output_type": "execute_result"
    }
   ],
   "source": [
    "correlation = df.corr()['is_canceled'].abs().sort_values(ascending = False)\n",
    "correlation"
   ]
  },
  {
   "cell_type": "code",
   "execution_count": 57,
   "metadata": {},
   "outputs": [],
   "source": [
    "df.drop(['name','email','credit_card','phone-number','meal', 'assigned_room_type', 'reserved_room_type', 'reservation_status', 'reservation_status_date', 'arrival_date'], axis=1, inplace=True)"
   ]
  },
  {
   "cell_type": "code",
   "execution_count": 58,
   "metadata": {},
   "outputs": [],
   "source": [
    "lb = LabelEncoder()\n",
    "var = ['hotel', 'customer_type','deposit_type', 'change_in_room', 'market_segment', 'distribution_channel', 'country',]\n",
    "for item in var:\n",
    "    df[item] = lb.fit_transform(df[item])\n",
    "df = pd.get_dummies(df, columns=['hotel', 'customer_type','deposit_type', 'change_in_room', 'market_segment', 'distribution_channel', 'country'])"
   ]
  },
  {
   "cell_type": "code",
   "execution_count": 59,
   "metadata": {},
   "outputs": [
    {
     "name": "stdout",
     "output_type": "stream",
     "text": [
      "<class 'pandas.core.frame.DataFrame'>\n",
      "RangeIndex: 119390 entries, 0 to 119389\n",
      "Data columns (total 51 columns):\n",
      " #   Column                          Non-Null Count   Dtype  \n",
      "---  ------                          --------------   -----  \n",
      " 0   is_canceled                     119390 non-null  int64  \n",
      " 1   lead_time                       119390 non-null  int64  \n",
      " 2   arrival_date_year               119390 non-null  int64  \n",
      " 3   arrival_date_month              119390 non-null  int32  \n",
      " 4   arrival_date_week_number        119390 non-null  int64  \n",
      " 5   arrival_date_day_of_month       119390 non-null  int64  \n",
      " 6   stays_in_weekend_nights         119390 non-null  int64  \n",
      " 7   stays_in_week_nights            119390 non-null  int64  \n",
      " 8   adults                          119390 non-null  int64  \n",
      " 9   children                        119390 non-null  float64\n",
      " 10  babies                          119390 non-null  int64  \n",
      " 11  is_repeated_guest               119390 non-null  int64  \n",
      " 12  previous_cancellations          119390 non-null  int64  \n",
      " 13  previous_bookings_not_canceled  119390 non-null  int64  \n",
      " 14  booking_changes                 119390 non-null  int64  \n",
      " 15  agent                           119390 non-null  float64\n",
      " 16  company                         119390 non-null  float64\n",
      " 17  days_in_waiting_list            119390 non-null  int64  \n",
      " 18  adr                             119390 non-null  float64\n",
      " 19  required_car_parking_spaces     119390 non-null  int64  \n",
      " 20  total_of_special_requests       119390 non-null  int64  \n",
      " 21  offspring                       119390 non-null  int32  \n",
      " 22  total_bookings                  119390 non-null  int64  \n",
      " 23  stay_duration                   119390 non-null  int32  \n",
      " 24  hotel_0                         119390 non-null  uint8  \n",
      " 25  hotel_1                         119390 non-null  uint8  \n",
      " 26  customer_type_0                 119390 non-null  uint8  \n",
      " 27  customer_type_1                 119390 non-null  uint8  \n",
      " 28  customer_type_2                 119390 non-null  uint8  \n",
      " 29  customer_type_3                 119390 non-null  uint8  \n",
      " 30  deposit_type_0                  119390 non-null  uint8  \n",
      " 31  deposit_type_1                  119390 non-null  uint8  \n",
      " 32  deposit_type_2                  119390 non-null  uint8  \n",
      " 33  change_in_room_0                119390 non-null  uint8  \n",
      " 34  change_in_room_1                119390 non-null  uint8  \n",
      " 35  market_segment_0                119390 non-null  uint8  \n",
      " 36  market_segment_1                119390 non-null  uint8  \n",
      " 37  market_segment_2                119390 non-null  uint8  \n",
      " 38  market_segment_3                119390 non-null  uint8  \n",
      " 39  market_segment_4                119390 non-null  uint8  \n",
      " 40  market_segment_5                119390 non-null  uint8  \n",
      " 41  market_segment_6                119390 non-null  uint8  \n",
      " 42  market_segment_7                119390 non-null  uint8  \n",
      " 43  distribution_channel_0          119390 non-null  uint8  \n",
      " 44  distribution_channel_1          119390 non-null  uint8  \n",
      " 45  distribution_channel_2          119390 non-null  uint8  \n",
      " 46  distribution_channel_3          119390 non-null  uint8  \n",
      " 47  distribution_channel_4          119390 non-null  uint8  \n",
      " 48  country_0                       119390 non-null  uint8  \n",
      " 49  country_1                       119390 non-null  uint8  \n",
      " 50  country_2                       119390 non-null  uint8  \n",
      "dtypes: float64(4), int32(3), int64(17), uint8(27)\n",
      "memory usage: 23.6 MB\n"
     ]
    }
   ],
   "source": [
    "df.info()"
   ]
  },
  {
   "cell_type": "code",
   "execution_count": 60,
   "metadata": {},
   "outputs": [
    {
     "data": {
      "text/plain": [
       "((83573, 50), (83573,), (35817, 50), (35817,))"
      ]
     },
     "execution_count": 60,
     "metadata": {},
     "output_type": "execute_result"
    }
   ],
   "source": [
    "train_var = df.drop(['is_canceled'], axis=1)\n",
    "test_var = df['is_canceled']\n",
    "X_train, X_test, y_train, y_test = train_test_split(train_var, test_var, test_size=0.30)\n",
    "X_train.shape, y_train.shape, X_test.shape, y_test.shape"
   ]
  },
  {
   "cell_type": "code",
   "execution_count": 61,
   "metadata": {},
   "outputs": [],
   "source": [
    "#Data scaling\n",
    "std_scaler = StandardScaler()\n",
    "std_scaler.fit(X_train)\n",
    "X_train_std = std_scaler.transform(X_train)\n",
    "X_test_std = std_scaler.transform(X_test)"
   ]
  },
  {
   "cell_type": "code",
   "execution_count": 62,
   "metadata": {},
   "outputs": [],
   "source": [
    "mm_scaler = MinMaxScaler()\n",
    "mm_scaler.fit(X_train)\n",
    "X_train_mm = mm_scaler.transform(X_train)\n",
    "X_test_mm = mm_scaler.transform(X_test)"
   ]
  },
  {
   "cell_type": "code",
   "execution_count": 63,
   "metadata": {},
   "outputs": [
    {
     "name": "stdout",
     "output_type": "stream",
     "text": [
      "Test accuracy: 0.992\n",
      "F1 score: 0.989\n",
      "[[22417    25]\n",
      " [  267 13108]]\n"
     ]
    }
   ],
   "source": [
    "#Logistic Regression\n",
    "logreg= LogisticRegression(max_iter=500).fit(X_train_mm,y_train) \n",
    "scores = cross_val_score(logreg, X_train_mm, y_train, cv=10)\n",
    "logreg_pred=logreg.predict(X_test_mm)\n",
    "print(\"Test accuracy: {:.3f}\".format(logreg.score(X_test_mm, y_test)))\n",
    "print(\"F1 score: {:.3f}\".format(f1_score(y_test, logreg_pred)))\n",
    "print(confusion_matrix(y_test, logreg_pred))"
   ]
  },
  {
   "cell_type": "code",
   "execution_count": 64,
   "metadata": {},
   "outputs": [
    {
     "name": "stdout",
     "output_type": "stream",
     "text": [
      "Average cross validation score: 0.995\n",
      "Test accuracy: 0.995\n",
      "F1 score: 0.994\n",
      "[[22433     9]\n",
      " [  154 13221]]\n"
     ]
    }
   ],
   "source": [
    "#Linear SVC\n",
    "svc = LinearSVC().fit(X_train_mm, y_train)\n",
    "scores = cross_val_score(svc, X_train_mm, y_train, cv=10)\n",
    "svc_pred = svc.predict(X_test_mm)\n",
    "print(\"Average cross validation score: {:.3f}\".format(scores.mean()))\n",
    "print(\"Test accuracy: {:.3f}\".format(svc.score(X_test_mm, y_test)))\n",
    "print(\"F1 score: {:.3f}\".format(f1_score(y_test, svc_pred)))\n",
    "print(confusion_matrix(y_test, svc_pred))"
   ]
  },
  {
   "cell_type": "code",
   "execution_count": 65,
   "metadata": {},
   "outputs": [
    {
     "name": "stdout",
     "output_type": "stream",
     "text": [
      "Average cross validation score: 0.987\n",
      "Test accuracy: 0.988\n",
      "F1 score: 0.984\n",
      "[[22432    10]\n",
      " [  413 12962]]\n"
     ]
    }
   ],
   "source": [
    "#SGD Classifier\n",
    "sgd = SGDClassifier(alpha=0.1).fit(X_train_std, y_train)\n",
    "scores = cross_val_score(sgd, X_train_std, y_train, cv=10)\n",
    "sgd_pred = sgd.predict(X_test_std)\n",
    "print(\"Average cross validation score: {:.3f}\".format(scores.mean()))\n",
    "print(\"Test accuracy: {:.3f}\".format(sgd.score(X_test_std, y_test)))\n",
    "print(\"F1 score: {:.3f}\".format(f1_score(y_test, sgd_pred)))\n",
    "print(confusion_matrix(y_test, sgd_pred))"
   ]
  },
  {
   "cell_type": "code",
   "execution_count": 66,
   "metadata": {},
   "outputs": [
    {
     "name": "stdout",
     "output_type": "stream",
     "text": [
      "Normalized data:\n",
      "Average cross validation score: 0.918\n",
      "Test accuracy: 0.919\n",
      "F1 score: 0.878\n",
      "[[22422    20]\n",
      " [ 2888 10487]]\n",
      "Standard scaled data:\n",
      "Average cross validation score: 0.986\n",
      "Test accuracy: 0.987\n",
      "F1 score: 0.982\n",
      "[[22436     6]\n",
      " [  469 12906]]\n"
     ]
    }
   ],
   "source": [
    "#Ridge Classifier\n",
    "rc = RidgeClassifier(alpha=1, normalize=True)\n",
    "rc.fit(X_train, y_train)\n",
    "scores = cross_val_score(rc, X_train, y_train, cv=10)\n",
    "rc_pred = rc.predict(X_test)\n",
    "print(\"Normalized data:\")\n",
    "print(\"Average cross validation score: {:.3f}\".format(scores.mean()))\n",
    "print(\"Test accuracy: {:.3f}\".format(rc.score(X_test, y_test)))\n",
    "print(\"F1 score: {:.3f}\".format(f1_score(y_test, rc_pred)))\n",
    "print(confusion_matrix(y_test, rc_pred))\n",
    "\n",
    "rc = RidgeClassifier(alpha=1)\n",
    "rc.fit(X_train_std, y_train)\n",
    "scores = cross_val_score(rc, X_train_std, y_train, cv=5)\n",
    "rc_pred = rc.predict(X_test_std)\n",
    "print(\"Standard scaled data:\")\n",
    "print(\"Average cross validation score: {:.3f}\".format(scores.mean()))\n",
    "print(\"Test accuracy: {:.3f}\".format(rc.score(X_test_std, y_test)))\n",
    "print(\"F1 score: {:.3f}\".format(f1_score(y_test, rc_pred)))\n",
    "print(confusion_matrix(y_test, rc_pred))"
   ]
  },
  {
   "cell_type": "code",
   "execution_count": 67,
   "metadata": {},
   "outputs": [
    {
     "data": {
      "text/plain": [
       "<matplotlib.legend.Legend at 0x1e221ad78b0>"
      ]
     },
     "execution_count": 67,
     "metadata": {},
     "output_type": "execute_result"
    },
    {
     "data": {
      "image/png": "[encoded data removed]",
      "text/plain": [
       "<Figure size 432x288 with 1 Axes>"
      ]
     },
     "metadata": {
      "needs_background": "light"
     },
     "output_type": "display_data"
    }
   ],
   "source": [
    "#KNN\n",
    "training_accuracy = []\n",
    "test_accuracy = []\n",
    "neighbors_settings = range(1, 6)\n",
    "for n_neighbors in neighbors_settings:\n",
    "    knn = KNeighborsClassifier(n_neighbors=n_neighbors)\n",
    "    knn.fit(X_train, y_train)\n",
    "    training_accuracy.append(knn.score(X_train, y_train))\n",
    "    test_accuracy.append(knn.score(X_test, y_test))\n",
    "    \n",
    "plt.plot(neighbors_settings, training_accuracy, label=\"training accuracy\")\n",
    "plt.plot(neighbors_settings, test_accuracy, label=\"test accuracy\")\n",
    "plt.ylabel(\"Accuracy\")\n",
    "plt.xlabel(\"n_neighbors\")\n",
    "plt.legend()"
   ]
  },
  {
   "cell_type": "code",
   "execution_count": 68,
   "metadata": {},
   "outputs": [
    {
     "name": "stdout",
     "output_type": "stream",
     "text": [
      "Average cross validation score: 0.876\n",
      "Test accuracy: 0.878\n",
      "F1 score: 0.832\n",
      "[[20642  1800]\n",
      " [ 2557 10818]]\n"
     ]
    }
   ],
   "source": [
    "knn = KNeighborsClassifier(n_neighbors=3).fit(X_train, y_train)\n",
    "scores = cross_val_score(knn, X_train, y_train, cv=10)\n",
    "knn_pred = knn.predict(X_test)\n",
    "print(\"Average cross validation score: {:.3f}\".format(scores.mean()))\n",
    "print(\"Test accuracy: {:.3f}\".format(knn.score(X_test, y_test)))\n",
    "print(\"F1 score: {:.3f}\".format(f1_score(y_test, knn_pred)))\n",
    "print(confusion_matrix(y_test, knn_pred))"
   ]
  },
  {
   "cell_type": "code",
   "execution_count": 69,
   "metadata": {},
   "outputs": [
    {
     "name": "stdout",
     "output_type": "stream",
     "text": [
      "Average cross validation score: 0.994\n",
      "Test accuracy: 0.995\n",
      "F1 score: 0.993\n",
      "[[22247   195]\n",
      " [    0 13375]]\n"
     ]
    }
   ],
   "source": [
    "#Decision Tree\n",
    "tree = DecisionTreeClassifier(max_depth=1).fit(X_train, y_train)\n",
    "scores = cross_val_score(tree, X_train, y_train, cv=5)\n",
    "tree_pred = tree.predict(X_test)\n",
    "print(\"Average cross validation score: {:.3f}\".format(scores.mean()))\n",
    "print(\"Test accuracy: {:.3f}\".format(tree.score(X_test, y_test)))\n",
    "print(\"F1 score: {:.3f}\".format(f1_score(y_test, tree_pred)))\n",
    "print(confusion_matrix(y_test, tree_pred))"
   ]
  },
  {
   "cell_type": "code",
   "execution_count": 73,
   "metadata": {},
   "outputs": [],
   "source": [
    "def classifier(train, test, estimator, param_grid):\n",
    "    grid_search = GridSearchCV(estimator, param_grid, cv=5)\n",
    "    grid_search.fit(train, y_train)\n",
    "    print(\"Best parameters:\", grid_search.best_params_)\n",
    "    print(\"Best score:\", grid_search.best_score_)\n",
    "    print(\"Test score: {:.3f}\".format(grid_search.score(test, y_test)))\n",
    "\n",
    "def feature_selection(model):\n",
    "    select_features = SelectFromModel(estimator=model, threshold='median')\n",
    "    select_features.fit(X_train, y_train)\n",
    "    X_train_select = select_features.transform(X_train)\n",
    "    X_test_select = select_features.transform(X_test)\n",
    "    return X_train_select, X_test_select\n",
    "\n",
    "def run_model(model, model_feature, param_grid):\n",
    "    print(\"Before feature selection:\")\n",
    "    classifier(X_train, X_test, model, param_grid)\n",
    "    X_train_select, X_test_select = feature_selection(model_feature)\n",
    "    print(\"After feature selection\")\n",
    "    classifier(X_train_select, X_test_select, model, param_grid)"
   ]
  },
  {
   "cell_type": "code",
   "execution_count": 74,
   "metadata": {},
   "outputs": [
    {
     "name": "stdout",
     "output_type": "stream",
     "text": [
      "Before feature selection:\n",
      "Best parameters: {'max_depth': 5, 'n_estimators': 50}\n",
      "Best score: 0.9980496001585829\n",
      "Test score: 0.999\n",
      "After feature selection\n",
      "Best parameters: {'max_depth': 5, 'n_estimators': 50}\n",
      "Best score: 0.997977816229548\n",
      "Test score: 0.998\n"
     ]
    }
   ],
   "source": [
    "#Random Forest\n",
    "param_grid = {'n_estimators':[50,75,100], 'max_depth':[1,2,5]}\n",
    "run_model(RandomForestClassifier(), RandomForestClassifier(n_estimators=50, max_depth=2), param_grid)"
   ]
  },
  {
   "cell_type": "code",
   "execution_count": 78,
   "metadata": {},
   "outputs": [
    {
     "name": "stdout",
     "output_type": "stream",
     "text": [
      "Before feature selection:\n",
      "Best parameters: {'learning_rate': 0.1, 'max_depth': 5}\n",
      "Best score: 0.9995333425372271\n",
      "Test score: 1.000\n",
      "After feature selection\n",
      "Best parameters: {'learning_rate': 0.1, 'max_depth': 5}\n",
      "Best score: 0.9994974459194579\n",
      "Test score: 1.000\n"
     ]
    }
   ],
   "source": [
    "#Gradient Boosted Classifier\n",
    "param_grid = {'max_depth':[1,2,5], 'learning_rate':[1,0.1,0.001]}\n",
    "run_model(GradientBoostingClassifier(), GradientBoostingClassifier(learning_rate=0.001), param_grid)"
   ]
  },
  {
   "cell_type": "code",
   "execution_count": 79,
   "metadata": {},
   "outputs": [
    {
     "name": "stdout",
     "output_type": "stream",
     "text": [
      "Average cross validation score: 0.957\n",
      "Test accuracy: 0.959\n",
      "F1 score: 0.942\n",
      "[[22398    44]\n",
      " [ 1425 11950]]\n"
     ]
    }
   ],
   "source": [
    "#Naive Bayes\n",
    "gnb = GaussianNB()\n",
    "gnb.fit(X_train, y_train)\n",
    "scores = cross_val_score(gnb, X_train, y_train, cv=10)\n",
    "gnb_pred = gnb.predict(X_test)\n",
    "print(\"Average cross validation score: {:.3f}\".format(scores.mean()))\n",
    "print(\"Test accuracy: {:.3f}\".format(gnb.score(X_test, y_test)))\n",
    "print(\"F1 score: {:.3f}\".format(f1_score(y_test, gnb_pred)))\n",
    "print(confusion_matrix(y_test, gnb_pred))"
   ]
  },
  {
   "cell_type": "code",
   "execution_count": 80,
   "metadata": {},
   "outputs": [
    {
     "name": "stdout",
     "output_type": "stream",
     "text": [
      "Average cross validation score: 0.999\n",
      "Test accuracy: 1.000\n",
      "F1 score: 0.999\n",
      "[[22435     7]\n",
      " [   10 13365]]\n"
     ]
    }
   ],
   "source": [
    "#Adaboost Classifier\n",
    "ada = AdaBoostClassifier()\n",
    "ada.fit(X_train, y_train)\n",
    "ada_pred = ada.predict(X_test)\n",
    "scores = cross_val_score(ada, X_train, y_train, cv=5)\n",
    "print(\"Average cross validation score: {:.3f}\".format(scores.mean()))\n",
    "print(\"Test accuracy: {:.3f}\".format(ada.score(X_test, y_test)))\n",
    "print(\"F1 score: {:.3f}\".format(f1_score(y_test, ada_pred)))\n",
    "print(confusion_matrix(y_test, ada_pred))"
   ]
  },
  {
   "cell_type": "code",
   "execution_count": null,
   "metadata": {},
   "outputs": [],
   "source": []
  }
 ],
 "metadata": {
  "kernelspec": {
   "display_name": "Python 3",
   "language": "python",
   "name": "python3"
  },
  "language_info": {
   "codemirror_mode": {
    "name": "ipython",
    "version": 3
   },
   "file_extension": ".py",
   "mimetype": "text/x-python",
   "name": "python",
   "nbconvert_exporter": "python",
   "pygments_lexer": "ipython3",
   "version": "3.8.5"
  }
 },
 "nbformat": 4,
 "nbformat_minor": 4
}
